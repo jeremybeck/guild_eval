{
 "cells": [
  {
   "cell_type": "markdown",
   "metadata": {},
   "source": [
    "# Introduction\n",
    "\n",
    "This notebook will contain my work, thought process, and answers to the technical evaluation portion of the take-home project. Instructions have been copied from the Guild SQL Workbench instructions and pasted below.\n",
    "\n",
    "\n",
    "The Guild Education SQL workbook contains fake data similar to what exists in Guild’s internal database.  Each tab represents one table.  Please make a copy of the workbook, and using the tables provided, write the SQL code necessary to pull the following information from the database (provide 1 query per question and your corresponding answer). Please state any of your assumptions. SQL is required. \n",
    "\n",
    "\n",
    "  * Total number of contacts (students) who are not enrolled in any courses. \n",
    "  * For each program category count the number of distinct contacts (students) that are enrolled in courses. \n",
    "  * Based on your best interpretation of the data, which application type has the most number of successful students? Keep this definition in mind for the python portion below)\n"
   ]
  },
  {
   "cell_type": "markdown",
   "metadata": {},
   "source": [
    "### Imports, Connections, and Functions"
   ]
  },
  {
   "cell_type": "code",
   "execution_count": 1,
   "metadata": {},
   "outputs": [],
   "source": [
    "import pandas as pd\n",
    "import sqlite3"
   ]
  },
  {
   "cell_type": "code",
   "execution_count": 2,
   "metadata": {},
   "outputs": [],
   "source": [
    "working_dir = '/Users/jmbeck/Desktop/guild_eval'"
   ]
  },
  {
   "cell_type": "code",
   "execution_count": 3,
   "metadata": {},
   "outputs": [],
   "source": [
    "conn = sqlite3.connect(working_dir + '/db/eval_db.sqlite')"
   ]
  },
  {
   "cell_type": "code",
   "execution_count": 4,
   "metadata": {},
   "outputs": [],
   "source": [
    "# This returns query rows as a dictionary, and allows referencing results by variable name. \n",
    "conn.row_factory = sqlite3.Row"
   ]
  },
  {
   "cell_type": "code",
   "execution_count": 5,
   "metadata": {},
   "outputs": [],
   "source": [
    "cu = conn.cursor()"
   ]
  },
  {
   "cell_type": "markdown",
   "metadata": {},
   "source": [
    "## Work\n",
    "\n",
    "The answers to my work are included below.  For the sake of clarity I have not included my EDA on the structure of the database in this answers notebook. Rather, those insights were incldued in the 00_create_sqlite_db notebook.\n",
    "\n",
    "One important note is that I have changed table names from the worksheet to not have spaces in them, so 'CONTACT DETAILS' is now stored as CONTACT_DETAILS. "
   ]
  },
  {
   "cell_type": "markdown",
   "metadata": {},
   "source": [
    "### Question 1\n",
    "\n",
    "**Total number of contacts (students) who are not enrolled in any courses.**\n",
    "\n",
    "For this question, I will use the CONTACT_DETAILS table in my sqlite db.  I will make a couple assumptions using the data. \n",
    "\n",
    "  1. A contact will be defined by their unique SF Contact ID.\n",
    "  2. Course enrollment will be determined using the presence of a SF Course C ID in the CONTACT_DETAILS table.\n",
    " \n",
    "To get number of courses people are enrolled in a course, I will leverage the fact that using COUNT in a specific field ignores NULL values in SQL.  Therefore, we can run the entire query using just the CONTACT_DETAILS table."
   ]
  },
  {
   "cell_type": "code",
   "execution_count": 6,
   "metadata": {},
   "outputs": [],
   "source": [
    "students_not_enrolled_in_courses = '''\n",
    "SELECT COUNT([Sf Contact Id]) AS student_count\n",
    "FROM (\n",
    "--Inline view of grouped data for enrolled courses per contact\n",
    "SELECT [Sf Contact Id], COUNT([Sf Course C ID]) AS COURSES_ENROLLED\n",
    "FROM CONTACT_DETAILS\n",
    "GROUP BY [Sf Contact ID]\n",
    "HAVING COUNT([Sf Course C ID]) = 0\n",
    ")\n",
    "'''"
   ]
  },
  {
   "cell_type": "code",
   "execution_count": 7,
   "metadata": {},
   "outputs": [],
   "source": [
    "_ = cu.execute(students_not_enrolled_in_courses)"
   ]
  },
  {
   "cell_type": "code",
   "execution_count": 8,
   "metadata": {},
   "outputs": [],
   "source": [
    "result = cu.fetchone()"
   ]
  },
  {
   "cell_type": "code",
   "execution_count": 9,
   "metadata": {},
   "outputs": [
    {
     "name": "stdout",
     "output_type": "stream",
     "text": [
      "16336\n"
     ]
    }
   ],
   "source": [
    "print(result['student_count'])"
   ]
  },
  {
   "cell_type": "markdown",
   "metadata": {},
   "source": [
    "There are 16336 students in the database who are not enrolled in any courses."
   ]
  },
  {
   "cell_type": "markdown",
   "metadata": {},
   "source": [
    "### Question 2\n",
    "\n",
    "**For each program category count the number of distinct contacts (students) that are enrolled in courses.**\n",
    "\n",
    "Assumptions:\n",
    "  1. A contact can be enrolled in multiple programs - identifiable by the Opportunity id. This fact was observed in the database creation script where I ran basic aggregations on each ID across tables."
   ]
  },
  {
   "cell_type": "markdown",
   "metadata": {},
   "source": [
    "Two tables will need to be used in this query, the CONTACT_DETAILS, and OPPORTUNITY_DETAILS table.  I will need to join the CONTACT_DETAILS table and the OPPORTUNITY_DETAILS using the [Sf Opportunity ID] field. Filtering down to just the enrolled students will be handled by reversing the HAVING logic from the original query, and using a Common Table Expression to simplify the structure of the query."
   ]
  },
  {
   "cell_type": "code",
   "execution_count": 10,
   "metadata": {},
   "outputs": [],
   "source": [
    "enrolled_students_with_category_query = '''\n",
    "-- Leverage a CTE for enrolled students query to simplify\n",
    "WITH enrolled_students AS\n",
    "(SELECT [Sf Contact Id], [Sf Opportunity Id], COUNT([Sf Course C ID]) AS COURSES_ENROLLED\n",
    "FROM CONTACT_DETAILS\n",
    "GROUP BY [Sf Contact ID], [Sf Opportunity Id]\n",
    "HAVING COUNT([Sf Course C ID]) > 1)\n",
    "\n",
    "SELECT [Sf Opportunity Program Category], COUNT(DISTINCT [Sf Contact Id]) AS n_enrollees\n",
    "FROM enrolled_students A\n",
    "LEFT JOIN OPPORTUNITY_DETAILS B\n",
    "ON A.[Sf Opportunity Id] = B.[Sf Opportunity Id]\n",
    "GROUP BY [Sf Opportunity Program Category]\n",
    "ORDER BY COUNT(DISTINCT [Sf Contact Id]) DESC\n",
    "'''"
   ]
  },
  {
   "cell_type": "markdown",
   "metadata": {},
   "source": [
    "The output will be pulled and displayed in pandas for clarity."
   ]
  },
  {
   "cell_type": "code",
   "execution_count": 11,
   "metadata": {},
   "outputs": [],
   "source": [
    "enrolled_students_with_category = pd.read_sql(enrolled_students_with_category_query, conn)"
   ]
  },
  {
   "cell_type": "code",
   "execution_count": 12,
   "metadata": {},
   "outputs": [
    {
     "data": {
      "text/html": [
       "<div>\n",
       "<style scoped>\n",
       "    .dataframe tbody tr th:only-of-type {\n",
       "        vertical-align: middle;\n",
       "    }\n",
       "\n",
       "    .dataframe tbody tr th {\n",
       "        vertical-align: top;\n",
       "    }\n",
       "\n",
       "    .dataframe thead th {\n",
       "        text-align: right;\n",
       "    }\n",
       "</style>\n",
       "<table border=\"1\" class=\"dataframe\">\n",
       "  <thead>\n",
       "    <tr style=\"text-align: right;\">\n",
       "      <th></th>\n",
       "      <th>Sf Opportunity Program Category</th>\n",
       "      <th>n_enrollees</th>\n",
       "    </tr>\n",
       "  </thead>\n",
       "  <tbody>\n",
       "    <tr>\n",
       "      <th>0</th>\n",
       "      <td>University</td>\n",
       "      <td>704</td>\n",
       "    </tr>\n",
       "    <tr>\n",
       "      <th>1</th>\n",
       "      <td>Lead Gen - Secondary</td>\n",
       "      <td>167</td>\n",
       "    </tr>\n",
       "    <tr>\n",
       "      <th>2</th>\n",
       "      <td>Credential</td>\n",
       "      <td>2</td>\n",
       "    </tr>\n",
       "    <tr>\n",
       "      <th>3</th>\n",
       "      <td>StraighterLine/Saylor</td>\n",
       "      <td>2</td>\n",
       "    </tr>\n",
       "    <tr>\n",
       "      <th>4</th>\n",
       "      <td>ELL Program</td>\n",
       "      <td>1</td>\n",
       "    </tr>\n",
       "    <tr>\n",
       "      <th>5</th>\n",
       "      <td>Lead Gen - Post Secondary</td>\n",
       "      <td>1</td>\n",
       "    </tr>\n",
       "  </tbody>\n",
       "</table>\n",
       "</div>"
      ],
      "text/plain": [
       "  Sf Opportunity Program Category  n_enrollees\n",
       "0                      University          704\n",
       "1            Lead Gen - Secondary          167\n",
       "2                      Credential            2\n",
       "3           StraighterLine/Saylor            2\n",
       "4                     ELL Program            1\n",
       "5       Lead Gen - Post Secondary            1"
      ]
     },
     "execution_count": 12,
     "metadata": {},
     "output_type": "execute_result"
    }
   ],
   "source": [
    "enrolled_students_with_category"
   ]
  },
  {
   "cell_type": "markdown",
   "metadata": {},
   "source": [
    "### Question 3\n",
    "\n",
    "**Based on your best interpretation of the data, which application type has the most number of successful students**\n",
    "\n",
    "I'll leverage all three tables for this query. The first step will be to identify successful course completions in the COURSE_DETAILS table. The logic is explained in the assumptions below. Successful course completions can be linked to the CONTACT_DETAILS table to get the contact_id associated with a successful course completion, and the opportunity_id to join to the OPPORTUNITY_DETAILS table. \n",
    "\n",
    "Assumptions:\n",
    "  * The list of successful grades will include ('A','A-','B+','B','B-','C+','C','C-','D+','D','D-','Passed','S')\n",
    "  * A student will be considered successful if they have been successful in any course. \n",
    "  * With some additional information this query could easily be expanded to calculate a GPA for each student based on their grades, and that overall GPA could be used to determine 'success'\n",
    "  * Since the query asks for the largest number of students, I will return that, but since application types have highly imbalanced counts, an alternative way to evaluate success would be the fraction of students who are successful. \n",
    "  * I am counting unique students, not unique courses taken, so the final query will Count the distinct Sf Contact IDs. "
   ]
  },
  {
   "cell_type": "markdown",
   "metadata": {},
   "source": [
    "Definitions of the letter grades and codes here:  \n",
    "  * https://www.york.cuny.edu/academics/policies/grading-policies \n",
    "  * https://catalog.csun.edu/policies/administrative-grading-symbols-i-ic-rp-sp-w-wu-cr-and-nc/"
   ]
  },
  {
   "cell_type": "code",
   "execution_count": 13,
   "metadata": {},
   "outputs": [],
   "source": [
    "successful_course_query = '''\n",
    "WITH successful_student_course AS\n",
    "(\n",
    "SELECT A.[Sf Contact ID]\n",
    " , A.[Sf Opportunity ID]\n",
    " , B.*\n",
    "FROM CONTACT_DETAILS A\n",
    "LEFT JOIN COURSE_DETAILS B\n",
    "ON A.[Sf Course C ID] = B.[Sf Course C ID]\n",
    "WHERE [Sf Course C Final Grade C] in ('A','A-','B+','B','B-','C+','C','C-','D+','D','D-','Passed','S')\n",
    ")\n",
    "\n",
    "SELECT [Sf Opportunity Application Type C] AS Application_Type\n",
    "  , COUNT(DISTINCT [Sf Contact ID]) AS successful_students\n",
    "FROM (\n",
    "SELECT A.*\n",
    " , B.[Sf Opportunity Application Type C]\n",
    "FROM successful_student_course A\n",
    "LEFT JOIN OPPORTUNITY_DETAILS B\n",
    "ON A.[Sf Opportunity ID] = B.[Sf Opportunity ID] ) D\n",
    "GROUP BY [Sf Opportunity Application Type C]\n",
    "ORDER BY COUNT(DISTINCT [Sf Contact ID]) DESC\n",
    "LIMIT 1\n",
    "'''"
   ]
  },
  {
   "cell_type": "code",
   "execution_count": 14,
   "metadata": {},
   "outputs": [],
   "source": [
    "_ = cu.execute(successful_course_query)"
   ]
  },
  {
   "cell_type": "code",
   "execution_count": 15,
   "metadata": {},
   "outputs": [],
   "source": [
    "q3_result = cu.fetchone()"
   ]
  },
  {
   "cell_type": "code",
   "execution_count": 16,
   "metadata": {},
   "outputs": [
    {
     "name": "stdout",
     "output_type": "stream",
     "text": [
      "The top application type is Guild Education with 486 successful students\n"
     ]
    }
   ],
   "source": [
    "print('The top application type is', q3_result['Application_Type'],'with', q3_result['successful_students'], 'successful students')"
   ]
  },
  {
   "cell_type": "code",
   "execution_count": null,
   "metadata": {},
   "outputs": [],
   "source": []
  }
 ],
 "metadata": {
  "kernelspec": {
   "display_name": "Python 3",
   "language": "python",
   "name": "python3"
  },
  "language_info": {
   "codemirror_mode": {
    "name": "ipython",
    "version": 3
   },
   "file_extension": ".py",
   "mimetype": "text/x-python",
   "name": "python",
   "nbconvert_exporter": "python",
   "pygments_lexer": "ipython3",
   "version": "3.7.3"
  }
 },
 "nbformat": 4,
 "nbformat_minor": 2
}
