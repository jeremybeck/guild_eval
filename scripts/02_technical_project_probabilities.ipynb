{
 "cells": [
  {
   "cell_type": "markdown",
   "metadata": {},
   "source": [
    "# Introduction\n",
    "\n",
    "In this notebook I will create a simple probability for each course to be passed. My method and assumptions will be discussed as I work through the process.\n",
    "\n",
    "The official request is as follows:\n",
    "\n",
    "Using Python, predict how likely a course is to be passed (note: we are not evaluating the accuracy of your model, but are looking at the quality of your code). Please comment liberally in your code so we can see your thought process. "
   ]
  },
  {
   "cell_type": "markdown",
   "metadata": {},
   "source": [
    "## Import, Functions, and Connections"
   ]
  },
  {
   "cell_type": "code",
   "execution_count": 1,
   "metadata": {},
   "outputs": [],
   "source": [
    "import pandas as pd\n",
    "import sqlite3\n",
    "import numpy as np"
   ]
  },
  {
   "cell_type": "code",
   "execution_count": 2,
   "metadata": {},
   "outputs": [],
   "source": [
    "%matplotlib inline"
   ]
  },
  {
   "cell_type": "code",
   "execution_count": 3,
   "metadata": {},
   "outputs": [],
   "source": [
    "working_dir = '/Users/jmbeck/Desktop/guild_eval'"
   ]
  },
  {
   "cell_type": "code",
   "execution_count": 4,
   "metadata": {},
   "outputs": [],
   "source": [
    "conn = sqlite3.connect(working_dir + '/db/eval_db.sqlite')"
   ]
  },
  {
   "cell_type": "markdown",
   "metadata": {},
   "source": [
    "## Data Load\n",
    "\n",
    "I will be leveraging my SQLite database for the information in this part of the task."
   ]
  },
  {
   "cell_type": "code",
   "execution_count": 5,
   "metadata": {},
   "outputs": [],
   "source": [
    "course_data_query = '''\n",
    "SELECT A.*\n",
    " , B.[Sf Contact ID]\n",
    "FROM COURSE_DETAILS A\n",
    "LEFT JOIN CONTACT_DETAILS B\n",
    "ON A.[Sf Course C ID] = B.[Sf Course C ID]\n",
    "'''"
   ]
  },
  {
   "cell_type": "code",
   "execution_count": 6,
   "metadata": {},
   "outputs": [],
   "source": [
    "course_data = pd.read_sql(course_data_query, conn)"
   ]
  },
  {
   "cell_type": "markdown",
   "metadata": {},
   "source": [
    "Let's now take an initial look at how much data we have to work with."
   ]
  },
  {
   "cell_type": "code",
   "execution_count": 7,
   "metadata": {
    "scrolled": true
   },
   "outputs": [
    {
     "data": {
      "text/html": [
       "<div>\n",
       "<style scoped>\n",
       "    .dataframe tbody tr th:only-of-type {\n",
       "        vertical-align: middle;\n",
       "    }\n",
       "\n",
       "    .dataframe tbody tr th {\n",
       "        vertical-align: top;\n",
       "    }\n",
       "\n",
       "    .dataframe thead th {\n",
       "        text-align: right;\n",
       "    }\n",
       "</style>\n",
       "<table border=\"1\" class=\"dataframe\">\n",
       "  <thead>\n",
       "    <tr style=\"text-align: right;\">\n",
       "      <th></th>\n",
       "      <th>Sf Course C ID</th>\n",
       "      <th>Sf Course C Name</th>\n",
       "      <th>Sf Course C Course Start Date C Date</th>\n",
       "      <th>Sf Course C Course End Date C Date</th>\n",
       "      <th>Sf Course C Final Grade C</th>\n",
       "      <th>Sf Contact ID</th>\n",
       "    </tr>\n",
       "  </thead>\n",
       "  <tbody>\n",
       "    <tr>\n",
       "      <th>0</th>\n",
       "      <td>a1C36000009t3tGEAQ</td>\n",
       "      <td>High School Completion Program</td>\n",
       "      <td>None</td>\n",
       "      <td>None</td>\n",
       "      <td>None</td>\n",
       "      <td>0033600001d8VYSAA2</td>\n",
       "    </tr>\n",
       "    <tr>\n",
       "      <th>1</th>\n",
       "      <td>a1C36000009eJkMEAU</td>\n",
       "      <td>Management Training Program - 16 Week</td>\n",
       "      <td>None</td>\n",
       "      <td>None</td>\n",
       "      <td>None</td>\n",
       "      <td>0033600001cWhGvAAK</td>\n",
       "    </tr>\n",
       "    <tr>\n",
       "      <th>2</th>\n",
       "      <td>a1C36000009u2k9EAA</td>\n",
       "      <td>High School Completion Program</td>\n",
       "      <td>None</td>\n",
       "      <td>None</td>\n",
       "      <td>None</td>\n",
       "      <td>0033600001eviAGAAY</td>\n",
       "    </tr>\n",
       "    <tr>\n",
       "      <th>3</th>\n",
       "      <td>a1C36000009fIoUEAU</td>\n",
       "      <td>High School Completion Program</td>\n",
       "      <td>None</td>\n",
       "      <td>None</td>\n",
       "      <td>None</td>\n",
       "      <td>0033600001e0cVpAAI</td>\n",
       "    </tr>\n",
       "    <tr>\n",
       "      <th>4</th>\n",
       "      <td>a1C36000005okzZEAQ</td>\n",
       "      <td>Management Training Program - 16 Week</td>\n",
       "      <td>None</td>\n",
       "      <td>None</td>\n",
       "      <td>None</td>\n",
       "      <td>0033600001E7j5fAAB</td>\n",
       "    </tr>\n",
       "  </tbody>\n",
       "</table>\n",
       "</div>"
      ],
      "text/plain": [
       "       Sf Course C ID                       Sf Course C Name  \\\n",
       "0  a1C36000009t3tGEAQ         High School Completion Program   \n",
       "1  a1C36000009eJkMEAU  Management Training Program - 16 Week   \n",
       "2  a1C36000009u2k9EAA         High School Completion Program   \n",
       "3  a1C36000009fIoUEAU         High School Completion Program   \n",
       "4  a1C36000005okzZEAQ  Management Training Program - 16 Week   \n",
       "\n",
       "  Sf Course C Course Start Date C Date Sf Course C Course End Date C Date  \\\n",
       "0                                 None                               None   \n",
       "1                                 None                               None   \n",
       "2                                 None                               None   \n",
       "3                                 None                               None   \n",
       "4                                 None                               None   \n",
       "\n",
       "  Sf Course C Final Grade C       Sf Contact ID  \n",
       "0                      None  0033600001d8VYSAA2  \n",
       "1                      None  0033600001cWhGvAAK  \n",
       "2                      None  0033600001eviAGAAY  \n",
       "3                      None  0033600001e0cVpAAI  \n",
       "4                      None  0033600001E7j5fAAB  "
      ]
     },
     "execution_count": 7,
     "metadata": {},
     "output_type": "execute_result"
    }
   ],
   "source": [
    "course_data.head()"
   ]
  },
  {
   "cell_type": "markdown",
   "metadata": {},
   "source": [
    "The only information stored in this data set are the course name and id, start and end date, and the final grade.  I've also included the contact id for the student completing each instance of a course.\n",
    "\n",
    "This does not leave us any real information to model with using machine learning methods, unless we bring outside information in.  I will probably need to rely on statistical methods and the observed outcomes."
   ]
  },
  {
   "cell_type": "markdown",
   "metadata": {},
   "source": [
    "** Missingness**"
   ]
  },
  {
   "cell_type": "code",
   "execution_count": 8,
   "metadata": {},
   "outputs": [
    {
     "data": {
      "text/plain": [
       "Sf Course C ID                           0.000000\n",
       "Sf Course C Name                         0.000000\n",
       "Sf Course C Course Start Date C Date     0.118859\n",
       "Sf Course C Course End Date C Date       0.435816\n",
       "Sf Course C Final Grade C               63.866878\n",
       "Sf Contact ID                            0.000000\n",
       "dtype: float64"
      ]
     },
     "execution_count": 8,
     "metadata": {},
     "output_type": "execute_result"
    }
   ],
   "source": [
    "100*(course_data.isnull().sum()/course_data.shape[0])"
   ]
  },
  {
   "cell_type": "markdown",
   "metadata": {},
   "source": [
    "The end date for courses is missing in many cases, and final grades are frequently missing.  Since there is no additional information, I have to assume that data can not be used for modeling, as we do not have outcomes for those course enrollments."
   ]
  },
  {
   "cell_type": "code",
   "execution_count": 9,
   "metadata": {},
   "outputs": [],
   "source": [
    "# Split the data set based on the presence of a final grade.\n",
    "null_data = course_data[course_data['Sf Course C Final Grade C'].isnull()].copy()\n",
    "usable_data = course_data[-course_data['Sf Course C Final Grade C'].isnull()].copy()"
   ]
  },
  {
   "cell_type": "code",
   "execution_count": 10,
   "metadata": {},
   "outputs": [
    {
     "data": {
      "text/plain": [
       "(2736, 6)"
      ]
     },
     "execution_count": 10,
     "metadata": {},
     "output_type": "execute_result"
    }
   ],
   "source": [
    "usable_data.shape"
   ]
  },
  {
   "cell_type": "markdown",
   "metadata": {},
   "source": [
    "Let's take a quick look at the course grades to ensure they look like what we saw in our successful outcomes query from the technical queries portion of this exercise."
   ]
  },
  {
   "cell_type": "code",
   "execution_count": 11,
   "metadata": {
    "scrolled": false
   },
   "outputs": [
    {
     "data": {
      "text/plain": [
       "A         664\n",
       "Passed    446\n",
       "B         278\n",
       "F         248\n",
       "A-        215\n",
       "C         177\n",
       "Failed    139\n",
       "B+        129\n",
       "W          98\n",
       "B-         77\n",
       "C+         77\n",
       "WA         48\n",
       "D          44\n",
       "FA         23\n",
       "C-         18\n",
       "FW         17\n",
       "WP         12\n",
       "D+          9\n",
       "D-          6\n",
       "IF          6\n",
       "S           2\n",
       "SP          1\n",
       "U           1\n",
       "I           1\n",
       "Name: Sf Course C Final Grade C, dtype: int64"
      ]
     },
     "execution_count": 11,
     "metadata": {},
     "output_type": "execute_result"
    }
   ],
   "source": [
    "usable_data['Sf Course C Final Grade C'].value_counts()"
   ]
  },
  {
   "cell_type": "markdown",
   "metadata": {},
   "source": [
    "Of the instances where a student has a grade in a course, the majority of those marks are passing. Unfortuntely we had to throw away the majority of our data, since no course outcomes were present.  "
   ]
  },
  {
   "cell_type": "markdown",
   "metadata": {},
   "source": [
    "### Defining Successful Outcomes"
   ]
  },
  {
   "cell_type": "markdown",
   "metadata": {},
   "source": [
    "The request of this task is to determine the probability that a course will be passed. Let's look at the outcomes for each course in the provided data set."
   ]
  },
  {
   "cell_type": "code",
   "execution_count": 12,
   "metadata": {},
   "outputs": [],
   "source": [
    "# This logic was used in the final query to define successful marks.  Please refer to 01_technical_project_queries\n",
    "# Question 3 for links to justify my choices. \n",
    "successful_outcomes = ['A','A-','B+','B','B-','C+','C','C-','D+','D','D-','Passed','S']"
   ]
  },
  {
   "cell_type": "markdown",
   "metadata": {},
   "source": [
    "Determine whether the course was passed in each instance of a course being taken by checking if the final grade in each row of the dataframe is present in the successful_outcomes list. "
   ]
  },
  {
   "cell_type": "code",
   "execution_count": 13,
   "metadata": {},
   "outputs": [],
   "source": [
    "usable_data['passing_grade'] = usable_data['Sf Course C Final Grade C'].apply(lambda x: x in successful_outcomes)"
   ]
  },
  {
   "cell_type": "code",
   "execution_count": 14,
   "metadata": {},
   "outputs": [
    {
     "data": {
      "text/html": [
       "<div>\n",
       "<style scoped>\n",
       "    .dataframe tbody tr th:only-of-type {\n",
       "        vertical-align: middle;\n",
       "    }\n",
       "\n",
       "    .dataframe tbody tr th {\n",
       "        vertical-align: top;\n",
       "    }\n",
       "\n",
       "    .dataframe thead th {\n",
       "        text-align: right;\n",
       "    }\n",
       "</style>\n",
       "<table border=\"1\" class=\"dataframe\">\n",
       "  <thead>\n",
       "    <tr style=\"text-align: right;\">\n",
       "      <th></th>\n",
       "      <th>Sf Course C ID</th>\n",
       "      <th>Sf Course C Name</th>\n",
       "      <th>Sf Course C Course Start Date C Date</th>\n",
       "      <th>Sf Course C Course End Date C Date</th>\n",
       "      <th>Sf Course C Final Grade C</th>\n",
       "      <th>Sf Contact ID</th>\n",
       "      <th>passing_grade</th>\n",
       "    </tr>\n",
       "  </thead>\n",
       "  <tbody>\n",
       "    <tr>\n",
       "      <th>585</th>\n",
       "      <td>a1C36000008rUXCEA2</td>\n",
       "      <td>Intro to Critical Thinking</td>\n",
       "      <td>2018-10-29 00:00:00</td>\n",
       "      <td>2018-12-17 00:00:00</td>\n",
       "      <td>FA</td>\n",
       "      <td>0033600001KrOCYAA3</td>\n",
       "      <td>False</td>\n",
       "    </tr>\n",
       "    <tr>\n",
       "      <th>586</th>\n",
       "      <td>a1C36000008rUXdEAM</td>\n",
       "      <td>Personal Wellness</td>\n",
       "      <td>2018-10-29 00:00:00</td>\n",
       "      <td>2018-12-17 00:00:00</td>\n",
       "      <td>FA</td>\n",
       "      <td>0033600001KrOCYAA3</td>\n",
       "      <td>False</td>\n",
       "    </tr>\n",
       "    <tr>\n",
       "      <th>587</th>\n",
       "      <td>a1C36000007g8EtEAI</td>\n",
       "      <td>Personal Wellness</td>\n",
       "      <td>2018-10-29 00:00:00</td>\n",
       "      <td>2018-12-17 00:00:00</td>\n",
       "      <td>FA</td>\n",
       "      <td>0033600001KrOCYAA3</td>\n",
       "      <td>False</td>\n",
       "    </tr>\n",
       "    <tr>\n",
       "      <th>588</th>\n",
       "      <td>a1C36000007g8EhEAI</td>\n",
       "      <td>Nurse as Caregiver</td>\n",
       "      <td>2018-10-29 00:00:00</td>\n",
       "      <td>2018-12-17 00:00:00</td>\n",
       "      <td>C+</td>\n",
       "      <td>0033600001LGqKoAAL</td>\n",
       "      <td>True</td>\n",
       "    </tr>\n",
       "    <tr>\n",
       "      <th>589</th>\n",
       "      <td>a1C36000007g8EaEAI</td>\n",
       "      <td>Nurse as Caregiver</td>\n",
       "      <td>2018-10-29 00:00:00</td>\n",
       "      <td>2018-12-17 00:00:00</td>\n",
       "      <td>A</td>\n",
       "      <td>0033600001BD3KJAA1</td>\n",
       "      <td>True</td>\n",
       "    </tr>\n",
       "  </tbody>\n",
       "</table>\n",
       "</div>"
      ],
      "text/plain": [
       "         Sf Course C ID            Sf Course C Name  \\\n",
       "585  a1C36000008rUXCEA2  Intro to Critical Thinking   \n",
       "586  a1C36000008rUXdEAM           Personal Wellness   \n",
       "587  a1C36000007g8EtEAI           Personal Wellness   \n",
       "588  a1C36000007g8EhEAI          Nurse as Caregiver   \n",
       "589  a1C36000007g8EaEAI          Nurse as Caregiver   \n",
       "\n",
       "    Sf Course C Course Start Date C Date Sf Course C Course End Date C Date  \\\n",
       "585                  2018-10-29 00:00:00                2018-12-17 00:00:00   \n",
       "586                  2018-10-29 00:00:00                2018-12-17 00:00:00   \n",
       "587                  2018-10-29 00:00:00                2018-12-17 00:00:00   \n",
       "588                  2018-10-29 00:00:00                2018-12-17 00:00:00   \n",
       "589                  2018-10-29 00:00:00                2018-12-17 00:00:00   \n",
       "\n",
       "    Sf Course C Final Grade C       Sf Contact ID  passing_grade  \n",
       "585                        FA  0033600001KrOCYAA3          False  \n",
       "586                        FA  0033600001KrOCYAA3          False  \n",
       "587                        FA  0033600001KrOCYAA3          False  \n",
       "588                        C+  0033600001LGqKoAAL           True  \n",
       "589                         A  0033600001BD3KJAA1           True  "
      ]
     },
     "execution_count": 14,
     "metadata": {},
     "output_type": "execute_result"
    }
   ],
   "source": [
    "usable_data.head()"
   ]
  },
  {
   "cell_type": "code",
   "execution_count": 15,
   "metadata": {
    "scrolled": true
   },
   "outputs": [
    {
     "data": {
      "text/plain": [
       "True     2142\n",
       "False     594\n",
       "Name: passing_grade, dtype: int64"
      ]
     },
     "execution_count": 15,
     "metadata": {},
     "output_type": "execute_result"
    }
   ],
   "source": [
    "usable_data.passing_grade.value_counts()"
   ]
  },
  {
   "cell_type": "markdown",
   "metadata": {},
   "source": [
    "As we saw in the grading distribution earlier, most instances of a course being taken result in a passing mark. "
   ]
  },
  {
   "cell_type": "markdown",
   "metadata": {},
   "source": [
    "# Predicting Probability of Passing a Course\n",
    "\n",
    "The assignment request was to predict the probability of passing a course. Unfortunately, we do not have additional data that could be used to discriminate these courses in a machine learning model, which limits our available methods to more statistical methods based on the observed outcomes across students.  \n",
    "\n",
    "I will model the potential probability of passing a course using two methods:\n",
    "  1. The observed probability _any_ students passing _any_ course in the data set.\n",
    "  2. The estimated probability of _any_ student passing _a specific_ course in the data set. "
   ]
  },
  {
   "cell_type": "markdown",
   "metadata": {},
   "source": [
    "## Simplest Prediction"
   ]
  },
  {
   "cell_type": "markdown",
   "metadata": {},
   "source": [
    "A simple way to see a baseline probability of a course being passed is the fraction of times it was observed to be passed in the data set. Since we have a boolean for whether each instance was successful already in the data set, we can aggregate on 'Sf Course C Name', and calculate a mean of passing_to get the fraction of times a course was passed."
   ]
  },
  {
   "cell_type": "code",
   "execution_count": 16,
   "metadata": {},
   "outputs": [
    {
     "data": {
      "text/plain": [
       "0.7828947368421053"
      ]
     },
     "execution_count": 16,
     "metadata": {},
     "output_type": "execute_result"
    }
   ],
   "source": [
    "usable_data.passing_grade.mean()"
   ]
  },
  {
   "cell_type": "markdown",
   "metadata": {},
   "source": [
    "Across all courses, the observed fraction of courses passed is 78%."
   ]
  },
  {
   "cell_type": "markdown",
   "metadata": {},
   "source": [
    "## Probability of Passing a Specific Course\n",
    "\n",
    "In this section I will look into how many times each course has been passed, and use that to estimate a probability of passing the course for any student.  \n",
    "\n",
    "First let's take a look at a distribution of how many times each course has been taken in the data set."
   ]
  },
  {
   "cell_type": "code",
   "execution_count": 17,
   "metadata": {},
   "outputs": [
    {
     "name": "stdout",
     "output_type": "stream",
     "text": [
      "Distribution of Course Completions\n"
     ]
    },
    {
     "data": {
      "image/png": "[encoded data removed]",
      "text/plain": [
       "<Figure size 432x288 with 1 Axes>"
      ]
     },
     "metadata": {
      "needs_background": "light"
     },
     "output_type": "display_data"
    }
   ],
   "source": [
    "print('Distribution of Course Completions')\n",
    "_ = usable_data.groupby('Sf Course C Name').size().hist(bins=20)"
   ]
  },
  {
   "cell_type": "markdown",
   "metadata": {},
   "source": [
    "Whew, the majority of courses in this data set have been taken very few times. That means I have my work cut out for me getting a reasonable probablity estimate for passing an individual course. Estimating uncertianty is going to be critical. "
   ]
  },
  {
   "cell_type": "code",
   "execution_count": 18,
   "metadata": {},
   "outputs": [
    {
     "name": "stdout",
     "output_type": "stream",
     "text": [
      "Count of Courses by Fraction of Successful Outcomes\n"
     ]
    },
    {
     "data": {
      "image/png": "[encoded data removed]",
      "text/plain": [
       "<Figure size 432x288 with 1 Axes>"
      ]
     },
     "metadata": {
      "needs_background": "light"
     },
     "output_type": "display_data"
    }
   ],
   "source": [
    "print('Count of Courses by Fraction of Successful Outcomes')\n",
    "_ = usable_data.groupby('Sf Course C Name').passing_grade.mean().hist()"
   ]
  },
  {
   "cell_type": "markdown",
   "metadata": {},
   "source": [
    "Most courses have a very high percentage of students passing them. Of course the spikes at 1 and 0 are largely due to a single student taking the course and either passing or failing. We know from flipping a coin that flipping a coin once and getting a single outcome doesn't mean there's actually a 100% chance of that outcome, so we will need to do some estimation.  "
   ]
  },
  {
   "cell_type": "code",
   "execution_count": 19,
   "metadata": {},
   "outputs": [],
   "source": [
    "pred_data = usable_data.groupby('Sf Course C Name').agg({'passing_grade': [np.mean, sum, len]})"
   ]
  },
  {
   "cell_type": "code",
   "execution_count": 20,
   "metadata": {},
   "outputs": [],
   "source": [
    "pred_data.columns = ['calc_outcome','success','total']"
   ]
  },
  {
   "cell_type": "code",
   "execution_count": 21,
   "metadata": {},
   "outputs": [
    {
     "data": {
      "text/html": [
       "<div>\n",
       "<style scoped>\n",
       "    .dataframe tbody tr th:only-of-type {\n",
       "        vertical-align: middle;\n",
       "    }\n",
       "\n",
       "    .dataframe tbody tr th {\n",
       "        vertical-align: top;\n",
       "    }\n",
       "\n",
       "    .dataframe thead th {\n",
       "        text-align: right;\n",
       "    }\n",
       "</style>\n",
       "<table border=\"1\" class=\"dataframe\">\n",
       "  <thead>\n",
       "    <tr style=\"text-align: right;\">\n",
       "      <th></th>\n",
       "      <th>calc_outcome</th>\n",
       "      <th>success</th>\n",
       "      <th>total</th>\n",
       "    </tr>\n",
       "    <tr>\n",
       "      <th>Sf Course C Name</th>\n",
       "      <th></th>\n",
       "      <th></th>\n",
       "      <th></th>\n",
       "    </tr>\n",
       "  </thead>\n",
       "  <tbody>\n",
       "    <tr>\n",
       "      <th>21st Century Global Issues</th>\n",
       "      <td>1.000000</td>\n",
       "      <td>2.0</td>\n",
       "      <td>2</td>\n",
       "    </tr>\n",
       "    <tr>\n",
       "      <th>Abnormal Psychology</th>\n",
       "      <td>1.000000</td>\n",
       "      <td>4.0</td>\n",
       "      <td>4</td>\n",
       "    </tr>\n",
       "    <tr>\n",
       "      <th>Academic Foundations</th>\n",
       "      <td>0.750000</td>\n",
       "      <td>3.0</td>\n",
       "      <td>4</td>\n",
       "    </tr>\n",
       "    <tr>\n",
       "      <th>Accounting 1</th>\n",
       "      <td>0.500000</td>\n",
       "      <td>1.0</td>\n",
       "      <td>2</td>\n",
       "    </tr>\n",
       "    <tr>\n",
       "      <th>Accounting I</th>\n",
       "      <td>0.000000</td>\n",
       "      <td>0.0</td>\n",
       "      <td>1</td>\n",
       "    </tr>\n",
       "    <tr>\n",
       "      <th>Accounting and Finance for Healthcare Managers</th>\n",
       "      <td>0.500000</td>\n",
       "      <td>2.0</td>\n",
       "      <td>4</td>\n",
       "    </tr>\n",
       "    <tr>\n",
       "      <th>Accounting for Performance Man</th>\n",
       "      <td>1.000000</td>\n",
       "      <td>1.0</td>\n",
       "      <td>1</td>\n",
       "    </tr>\n",
       "    <tr>\n",
       "      <th>Advanced Accounting Problems</th>\n",
       "      <td>1.000000</td>\n",
       "      <td>1.0</td>\n",
       "      <td>1</td>\n",
       "    </tr>\n",
       "    <tr>\n",
       "      <th>Advanced Networking Using Java</th>\n",
       "      <td>1.000000</td>\n",
       "      <td>1.0</td>\n",
       "      <td>1</td>\n",
       "    </tr>\n",
       "    <tr>\n",
       "      <th>Advanced Writing for English Language Learners</th>\n",
       "      <td>0.909091</td>\n",
       "      <td>20.0</td>\n",
       "      <td>22</td>\n",
       "    </tr>\n",
       "  </tbody>\n",
       "</table>\n",
       "</div>"
      ],
      "text/plain": [
       "                                                calc_outcome  success  total\n",
       "Sf Course C Name                                                            \n",
       "21st Century Global Issues                          1.000000      2.0      2\n",
       "Abnormal Psychology                                 1.000000      4.0      4\n",
       "Academic Foundations                                0.750000      3.0      4\n",
       "Accounting 1                                        0.500000      1.0      2\n",
       "Accounting I                                        0.000000      0.0      1\n",
       "Accounting and Finance for Healthcare Managers      0.500000      2.0      4\n",
       "Accounting for Performance Man                      1.000000      1.0      1\n",
       "Advanced Accounting Problems                        1.000000      1.0      1\n",
       "Advanced Networking Using Java                      1.000000      1.0      1\n",
       "Advanced Writing for English Language Learners      0.909091     20.0     22"
      ]
     },
     "execution_count": 21,
     "metadata": {},
     "output_type": "execute_result"
    }
   ],
   "source": [
    "pred_data.head(10)"
   ]
  },
  {
   "cell_type": "markdown",
   "metadata": {},
   "source": [
    "The course outcomes here appear to be the only 'features' we have to work with to get individual course level estimates. "
   ]
  },
  {
   "cell_type": "markdown",
   "metadata": {},
   "source": [
    "### Wilson Score Interval"
   ]
  },
  {
   "cell_type": "markdown",
   "metadata": {},
   "source": [
    "I am going to attempt to use the Wilson score interval here to use bernoulli trial outcomes for estimating the actual probability and confidence intervals. Given that we have so many courses that have only been taken once or twice, there are calculated outcomes that are 100% pass or 100% fail, and the Wilson score interval reportedly provides good behavior in these sitautions (see link below). There are some assumptions here that aren't technically met, namely that the probability of outcomes in each trial is not constant (different students should have different likelihoods of passing a course.)  However, with the lack of data across most classes, there isn't much else we can do.\n",
    "\n",
    "https://en.wikipedia.org/wiki/Binomial_proportion_confidence_interval\n",
    "\n",
    "My function will return a tuple containing the corrected probability estimate, which I will call wilson_p, and the +/- correction for the confidence intervals."
   ]
  },
  {
   "cell_type": "code",
   "execution_count": 22,
   "metadata": {},
   "outputs": [],
   "source": [
    "def wilson_score_interval(n_trials=None, n_success=None, z=1.96):\n",
    "    '''\n",
    "    Function to estimate the corrected probability and confidence interval range using bernoilli trial outcomes. \n",
    "    \n",
    "    input: n_trials: (int) The number of times a course was taken\n",
    "    input: n_success: (int) The number of times a passing grade was achieved for the course\n",
    "    input: z: (float) The Z-score for the confidence interval range. \n",
    "    \n",
    "    returns: (p, conf) (tuple, floats)  The corrected probability estimate and CI range for the Wilson interval\n",
    "    \n",
    "    '''\n",
    "    successes = n_success\n",
    "    trials = n_trials\n",
    "    failures = n_trials - n_success\n",
    "    p = n_success/n_trials\n",
    "    \n",
    "    p = (successes + (z**2)/2)/(trials+z**2)\n",
    "    root = (successes*failures/trials) + ((z**2)/4)\n",
    "    conf = (z/(trials+z**2))*np.sqrt(root)\n",
    "    return (p, conf)"
   ]
  },
  {
   "cell_type": "markdown",
   "metadata": {},
   "source": [
    "**Create the data set of outcomes**"
   ]
  },
  {
   "cell_type": "code",
   "execution_count": 23,
   "metadata": {},
   "outputs": [],
   "source": [
    "pred_data = usable_data.groupby('Sf Course C Name').agg({'passing_grade': [sum, len]})"
   ]
  },
  {
   "cell_type": "code",
   "execution_count": 24,
   "metadata": {},
   "outputs": [],
   "source": [
    "pred_data.columns = ['success','trials']"
   ]
  },
  {
   "cell_type": "code",
   "execution_count": 25,
   "metadata": {},
   "outputs": [
    {
     "data": {
      "text/html": [
       "<div>\n",
       "<style scoped>\n",
       "    .dataframe tbody tr th:only-of-type {\n",
       "        vertical-align: middle;\n",
       "    }\n",
       "\n",
       "    .dataframe tbody tr th {\n",
       "        vertical-align: top;\n",
       "    }\n",
       "\n",
       "    .dataframe thead th {\n",
       "        text-align: right;\n",
       "    }\n",
       "</style>\n",
       "<table border=\"1\" class=\"dataframe\">\n",
       "  <thead>\n",
       "    <tr style=\"text-align: right;\">\n",
       "      <th></th>\n",
       "      <th>success</th>\n",
       "      <th>trials</th>\n",
       "    </tr>\n",
       "    <tr>\n",
       "      <th>Sf Course C Name</th>\n",
       "      <th></th>\n",
       "      <th></th>\n",
       "    </tr>\n",
       "  </thead>\n",
       "  <tbody>\n",
       "    <tr>\n",
       "      <th>21st Century Global Issues</th>\n",
       "      <td>2.0</td>\n",
       "      <td>2</td>\n",
       "    </tr>\n",
       "    <tr>\n",
       "      <th>Abnormal Psychology</th>\n",
       "      <td>4.0</td>\n",
       "      <td>4</td>\n",
       "    </tr>\n",
       "    <tr>\n",
       "      <th>Academic Foundations</th>\n",
       "      <td>3.0</td>\n",
       "      <td>4</td>\n",
       "    </tr>\n",
       "    <tr>\n",
       "      <th>Accounting 1</th>\n",
       "      <td>1.0</td>\n",
       "      <td>2</td>\n",
       "    </tr>\n",
       "    <tr>\n",
       "      <th>Accounting I</th>\n",
       "      <td>0.0</td>\n",
       "      <td>1</td>\n",
       "    </tr>\n",
       "    <tr>\n",
       "      <th>Accounting and Finance for Healthcare Managers</th>\n",
       "      <td>2.0</td>\n",
       "      <td>4</td>\n",
       "    </tr>\n",
       "    <tr>\n",
       "      <th>Accounting for Performance Man</th>\n",
       "      <td>1.0</td>\n",
       "      <td>1</td>\n",
       "    </tr>\n",
       "    <tr>\n",
       "      <th>Advanced Accounting Problems</th>\n",
       "      <td>1.0</td>\n",
       "      <td>1</td>\n",
       "    </tr>\n",
       "    <tr>\n",
       "      <th>Advanced Networking Using Java</th>\n",
       "      <td>1.0</td>\n",
       "      <td>1</td>\n",
       "    </tr>\n",
       "    <tr>\n",
       "      <th>Advanced Writing for English Language Learners</th>\n",
       "      <td>20.0</td>\n",
       "      <td>22</td>\n",
       "    </tr>\n",
       "  </tbody>\n",
       "</table>\n",
       "</div>"
      ],
      "text/plain": [
       "                                                success  trials\n",
       "Sf Course C Name                                               \n",
       "21st Century Global Issues                          2.0       2\n",
       "Abnormal Psychology                                 4.0       4\n",
       "Academic Foundations                                3.0       4\n",
       "Accounting 1                                        1.0       2\n",
       "Accounting I                                        0.0       1\n",
       "Accounting and Finance for Healthcare Managers      2.0       4\n",
       "Accounting for Performance Man                      1.0       1\n",
       "Advanced Accounting Problems                        1.0       1\n",
       "Advanced Networking Using Java                      1.0       1\n",
       "Advanced Writing for English Language Learners     20.0      22"
      ]
     },
     "execution_count": 25,
     "metadata": {},
     "output_type": "execute_result"
    }
   ],
   "source": [
    "pred_data.head(10)"
   ]
  },
  {
   "cell_type": "markdown",
   "metadata": {},
   "source": [
    "The data set of trial outcomes has been created.  Now my wilson_score_interval function can be applied to get an estimate of the probabilty of passing the course, with confidence intervals, would be. "
   ]
  },
  {
   "cell_type": "code",
   "execution_count": 26,
   "metadata": {},
   "outputs": [],
   "source": [
    "pred_data['wilson_p'], pred_data['wilson_conf'] =  \\\n",
    "    zip(*pred_data.apply(lambda x: wilson_score_interval(n_trials=x['trials'], n_success=x['success']), axis=1))"
   ]
  },
  {
   "cell_type": "markdown",
   "metadata": {},
   "source": [
    "First take a look at the output probabilities."
   ]
  },
  {
   "cell_type": "code",
   "execution_count": 27,
   "metadata": {},
   "outputs": [
    {
     "name": "stdout",
     "output_type": "stream",
     "text": [
      "Distribution of Corrected Wilson Scores\n"
     ]
    },
    {
     "data": {
      "image/png": "[encoded data removed]",
      "text/plain": [
       "<Figure size 432x288 with 1 Axes>"
      ]
     },
     "metadata": {
      "needs_background": "light"
     },
     "output_type": "display_data"
    }
   ],
   "source": [
    "print('Distribution of Corrected Wilson Scores')\n",
    "_ = pred_data.wilson_p.hist(bins=20)"
   ]
  },
  {
   "cell_type": "markdown",
   "metadata": {},
   "source": [
    "The probability of passing a course has shifted significantly toward the center of the probability range, indicating that the courses with few people taking them are not actually likely to be 100% pass or fail. "
   ]
  },
  {
   "cell_type": "code",
   "execution_count": 28,
   "metadata": {},
   "outputs": [],
   "source": [
    "pred_data['calc_outcome'] = pred_data['success']/pred_data['trials']"
   ]
  },
  {
   "cell_type": "code",
   "execution_count": 29,
   "metadata": {},
   "outputs": [
    {
     "name": "stdout",
     "output_type": "stream",
     "text": [
      "Observed Fraction Passing vs Corrected Wilson Score\n"
     ]
    },
    {
     "data": {
      "image/png": "[encoded data removed]",
      "text/plain": [
       "<Figure size 432x288 with 1 Axes>"
      ]
     },
     "metadata": {
      "needs_background": "light"
     },
     "output_type": "display_data"
    }
   ],
   "source": [
    "print('Observed Fraction Passing vs Corrected Wilson Score')\n",
    "_ = pred_data.plot.scatter(x='calc_outcome', y='wilson_p')"
   ]
  },
  {
   "cell_type": "markdown",
   "metadata": {},
   "source": [
    "Courses that were always passed or always failed are heavily corrected based on the number of students actually taking the course. The remaining probabilities have much smaller corrections. "
   ]
  },
  {
   "cell_type": "markdown",
   "metadata": {},
   "source": [
    "The confidence intervals should also be fairly large since most classes have only been taken a couple times. This would accurately reflect the uncertainty in those estimated outcomes - let's take a look to verify that."
   ]
  },
  {
   "cell_type": "code",
   "execution_count": 30,
   "metadata": {},
   "outputs": [
    {
     "name": "stdout",
     "output_type": "stream",
     "text": [
      "Distribution of CI Sizes\n"
     ]
    },
    {
     "data": {
      "image/png": "[encoded data removed]",
      "text/plain": [
       "<Figure size 432x288 with 1 Axes>"
      ]
     },
     "metadata": {
      "needs_background": "light"
     },
     "output_type": "display_data"
    }
   ],
   "source": [
    "print('Distribution of CI Sizes')\n",
    "_ = pred_data.wilson_conf.hist(bins=20)"
   ]
  },
  {
   "cell_type": "markdown",
   "metadata": {},
   "source": [
    "### Model Output Interpretation"
   ]
  },
  {
   "cell_type": "markdown",
   "metadata": {},
   "source": [
    "First let's see what happens for courses that were only taken once."
   ]
  },
  {
   "cell_type": "code",
   "execution_count": 31,
   "metadata": {},
   "outputs": [
    {
     "data": {
      "text/html": [
       "<div>\n",
       "<style scoped>\n",
       "    .dataframe tbody tr th:only-of-type {\n",
       "        vertical-align: middle;\n",
       "    }\n",
       "\n",
       "    .dataframe tbody tr th {\n",
       "        vertical-align: top;\n",
       "    }\n",
       "\n",
       "    .dataframe thead th {\n",
       "        text-align: right;\n",
       "    }\n",
       "</style>\n",
       "<table border=\"1\" class=\"dataframe\">\n",
       "  <thead>\n",
       "    <tr style=\"text-align: right;\">\n",
       "      <th></th>\n",
       "      <th>success</th>\n",
       "      <th>trials</th>\n",
       "      <th>wilson_p</th>\n",
       "      <th>wilson_conf</th>\n",
       "      <th>calc_outcome</th>\n",
       "    </tr>\n",
       "    <tr>\n",
       "      <th>Sf Course C Name</th>\n",
       "      <th></th>\n",
       "      <th></th>\n",
       "      <th></th>\n",
       "      <th></th>\n",
       "      <th></th>\n",
       "    </tr>\n",
       "  </thead>\n",
       "  <tbody>\n",
       "    <tr>\n",
       "      <th>Intro to Counseling</th>\n",
       "      <td>1.0</td>\n",
       "      <td>1</td>\n",
       "      <td>0.603272</td>\n",
       "      <td>0.396728</td>\n",
       "      <td>1.0</td>\n",
       "    </tr>\n",
       "    <tr>\n",
       "      <th>Intro to Comp Data Processing</th>\n",
       "      <td>1.0</td>\n",
       "      <td>1</td>\n",
       "      <td>0.603272</td>\n",
       "      <td>0.396728</td>\n",
       "      <td>1.0</td>\n",
       "    </tr>\n",
       "    <tr>\n",
       "      <th>Intro to Criminal Justice</th>\n",
       "      <td>1.0</td>\n",
       "      <td>1</td>\n",
       "      <td>0.603272</td>\n",
       "      <td>0.396728</td>\n",
       "      <td>1.0</td>\n",
       "    </tr>\n",
       "    <tr>\n",
       "      <th>Introduction to Algebra</th>\n",
       "      <td>1.0</td>\n",
       "      <td>1</td>\n",
       "      <td>0.603272</td>\n",
       "      <td>0.396728</td>\n",
       "      <td>1.0</td>\n",
       "    </tr>\n",
       "    <tr>\n",
       "      <th>Introduction to Biology &amp; Biology Lab</th>\n",
       "      <td>1.0</td>\n",
       "      <td>1</td>\n",
       "      <td>0.603272</td>\n",
       "      <td>0.396728</td>\n",
       "      <td>1.0</td>\n",
       "    </tr>\n",
       "    <tr>\n",
       "      <th>Introduction to Biology + Lab</th>\n",
       "      <td>0.0</td>\n",
       "      <td>1</td>\n",
       "      <td>0.396728</td>\n",
       "      <td>0.396728</td>\n",
       "      <td>0.0</td>\n",
       "    </tr>\n",
       "    <tr>\n",
       "      <th>Introduction to Business</th>\n",
       "      <td>0.0</td>\n",
       "      <td>1</td>\n",
       "      <td>0.396728</td>\n",
       "      <td>0.396728</td>\n",
       "      <td>0.0</td>\n",
       "    </tr>\n",
       "    <tr>\n",
       "      <th>Introduction to Crime and Deviance</th>\n",
       "      <td>1.0</td>\n",
       "      <td>1</td>\n",
       "      <td>0.603272</td>\n",
       "      <td>0.396728</td>\n",
       "      <td>1.0</td>\n",
       "    </tr>\n",
       "    <tr>\n",
       "      <th>Introduction to Environmental Science</th>\n",
       "      <td>1.0</td>\n",
       "      <td>1</td>\n",
       "      <td>0.603272</td>\n",
       "      <td>0.396728</td>\n",
       "      <td>1.0</td>\n",
       "    </tr>\n",
       "    <tr>\n",
       "      <th>Introduction to Healthcare Strategy</th>\n",
       "      <td>1.0</td>\n",
       "      <td>1</td>\n",
       "      <td>0.603272</td>\n",
       "      <td>0.396728</td>\n",
       "      <td>1.0</td>\n",
       "    </tr>\n",
       "  </tbody>\n",
       "</table>\n",
       "</div>"
      ],
      "text/plain": [
       "                                       success  trials  wilson_p  wilson_conf  \\\n",
       "Sf Course C Name                                                                \n",
       "Intro to Counseling                        1.0       1  0.603272     0.396728   \n",
       "Intro to Comp Data Processing              1.0       1  0.603272     0.396728   \n",
       "Intro to Criminal Justice                  1.0       1  0.603272     0.396728   \n",
       "Introduction to Algebra                    1.0       1  0.603272     0.396728   \n",
       "Introduction to Biology & Biology Lab      1.0       1  0.603272     0.396728   \n",
       "Introduction to Biology + Lab              0.0       1  0.396728     0.396728   \n",
       "Introduction to Business                   0.0       1  0.396728     0.396728   \n",
       "Introduction to Crime and Deviance         1.0       1  0.603272     0.396728   \n",
       "Introduction to Environmental Science      1.0       1  0.603272     0.396728   \n",
       "Introduction to Healthcare Strategy        1.0       1  0.603272     0.396728   \n",
       "\n",
       "                                       calc_outcome  \n",
       "Sf Course C Name                                     \n",
       "Intro to Counseling                             1.0  \n",
       "Intro to Comp Data Processing                   1.0  \n",
       "Intro to Criminal Justice                       1.0  \n",
       "Introduction to Algebra                         1.0  \n",
       "Introduction to Biology & Biology Lab           1.0  \n",
       "Introduction to Biology + Lab                   0.0  \n",
       "Introduction to Business                        0.0  \n",
       "Introduction to Crime and Deviance              1.0  \n",
       "Introduction to Environmental Science           1.0  \n",
       "Introduction to Healthcare Strategy             1.0  "
      ]
     },
     "execution_count": 31,
     "metadata": {},
     "output_type": "execute_result"
    }
   ],
   "source": [
    "pred_data.sort_values(by='trials', ascending=True).head(10)"
   ]
  },
  {
   "cell_type": "markdown",
   "metadata": {},
   "source": [
    "In these cases, the probability estimate is closer to 0.5, and will shift from a discrete 0,1 to ~0.6 or ~0.4, with very large confidence intervals. This reflects the uncertainty the model should have in the estimated probability for situations with very few observations. "
   ]
  },
  {
   "cell_type": "markdown",
   "metadata": {},
   "source": [
    "Now let's investigate what happens when a class was taken many times."
   ]
  },
  {
   "cell_type": "code",
   "execution_count": 32,
   "metadata": {},
   "outputs": [
    {
     "data": {
      "text/html": [
       "<div>\n",
       "<style scoped>\n",
       "    .dataframe tbody tr th:only-of-type {\n",
       "        vertical-align: middle;\n",
       "    }\n",
       "\n",
       "    .dataframe tbody tr th {\n",
       "        vertical-align: top;\n",
       "    }\n",
       "\n",
       "    .dataframe thead th {\n",
       "        text-align: right;\n",
       "    }\n",
       "</style>\n",
       "<table border=\"1\" class=\"dataframe\">\n",
       "  <thead>\n",
       "    <tr style=\"text-align: right;\">\n",
       "      <th></th>\n",
       "      <th>success</th>\n",
       "      <th>trials</th>\n",
       "      <th>wilson_p</th>\n",
       "      <th>wilson_conf</th>\n",
       "      <th>calc_outcome</th>\n",
       "    </tr>\n",
       "    <tr>\n",
       "      <th>Sf Course C Name</th>\n",
       "      <th></th>\n",
       "      <th></th>\n",
       "      <th></th>\n",
       "      <th></th>\n",
       "      <th></th>\n",
       "    </tr>\n",
       "  </thead>\n",
       "  <tbody>\n",
       "    <tr>\n",
       "      <th>Intermediate English for Hospitality Employees</th>\n",
       "      <td>43.0</td>\n",
       "      <td>48</td>\n",
       "      <td>0.866501</td>\n",
       "      <td>0.088178</td>\n",
       "      <td>0.895833</td>\n",
       "    </tr>\n",
       "    <tr>\n",
       "      <th>Leadership Skills for Professionals 101</th>\n",
       "      <td>39.0</td>\n",
       "      <td>48</td>\n",
       "      <td>0.789343</td>\n",
       "      <td>0.108744</td>\n",
       "      <td>0.812500</td>\n",
       "    </tr>\n",
       "    <tr>\n",
       "      <th>Leadership Skills for Professionals 102</th>\n",
       "      <td>38.0</td>\n",
       "      <td>50</td>\n",
       "      <td>0.741449</td>\n",
       "      <td>0.115578</td>\n",
       "      <td>0.760000</td>\n",
       "    </tr>\n",
       "    <tr>\n",
       "      <th>Student Success Skills for Online Learning</th>\n",
       "      <td>50.0</td>\n",
       "      <td>56</td>\n",
       "      <td>0.867637</td>\n",
       "      <td>0.082324</td>\n",
       "      <td>0.892857</td>\n",
       "    </tr>\n",
       "    <tr>\n",
       "      <th>Foundations for Professional S</th>\n",
       "      <td>56.0</td>\n",
       "      <td>64</td>\n",
       "      <td>0.853765</td>\n",
       "      <td>0.081513</td>\n",
       "      <td>0.875000</td>\n",
       "    </tr>\n",
       "    <tr>\n",
       "      <th>Penn Foster High School</th>\n",
       "      <td>56.0</td>\n",
       "      <td>68</td>\n",
       "      <td>0.806229</td>\n",
       "      <td>0.089836</td>\n",
       "      <td>0.823529</td>\n",
       "    </tr>\n",
       "    <tr>\n",
       "      <th>Applying Leadership Principles</th>\n",
       "      <td>53.0</td>\n",
       "      <td>85</td>\n",
       "      <td>0.618188</td>\n",
       "      <td>0.100891</td>\n",
       "      <td>0.623529</td>\n",
       "    </tr>\n",
       "    <tr>\n",
       "      <th>Leadership Skills for Professionals</th>\n",
       "      <td>96.0</td>\n",
       "      <td>119</td>\n",
       "      <td>0.797131</td>\n",
       "      <td>0.070485</td>\n",
       "      <td>0.806723</td>\n",
       "    </tr>\n",
       "    <tr>\n",
       "      <th>Management Training Program - 16 Week</th>\n",
       "      <td>125.0</td>\n",
       "      <td>138</td>\n",
       "      <td>0.894807</td>\n",
       "      <td>0.049313</td>\n",
       "      <td>0.905797</td>\n",
       "    </tr>\n",
       "    <tr>\n",
       "      <th>High School Completion Program</th>\n",
       "      <td>150.0</td>\n",
       "      <td>184</td>\n",
       "      <td>0.808771</td>\n",
       "      <td>0.055878</td>\n",
       "      <td>0.815217</td>\n",
       "    </tr>\n",
       "  </tbody>\n",
       "</table>\n",
       "</div>"
      ],
      "text/plain": [
       "                                                success  trials  wilson_p  \\\n",
       "Sf Course C Name                                                            \n",
       "Intermediate English for Hospitality Employees     43.0      48  0.866501   \n",
       "Leadership Skills for Professionals 101            39.0      48  0.789343   \n",
       "Leadership Skills for Professionals 102            38.0      50  0.741449   \n",
       "Student Success Skills for Online Learning         50.0      56  0.867637   \n",
       "Foundations for Professional S                     56.0      64  0.853765   \n",
       "Penn Foster High School                            56.0      68  0.806229   \n",
       "Applying Leadership Principles                     53.0      85  0.618188   \n",
       "Leadership Skills for Professionals                96.0     119  0.797131   \n",
       "Management Training Program - 16 Week             125.0     138  0.894807   \n",
       "High School Completion Program                    150.0     184  0.808771   \n",
       "\n",
       "                                                wilson_conf  calc_outcome  \n",
       "Sf Course C Name                                                           \n",
       "Intermediate English for Hospitality Employees     0.088178      0.895833  \n",
       "Leadership Skills for Professionals 101            0.108744      0.812500  \n",
       "Leadership Skills for Professionals 102            0.115578      0.760000  \n",
       "Student Success Skills for Online Learning         0.082324      0.892857  \n",
       "Foundations for Professional S                     0.081513      0.875000  \n",
       "Penn Foster High School                            0.089836      0.823529  \n",
       "Applying Leadership Principles                     0.100891      0.623529  \n",
       "Leadership Skills for Professionals                0.070485      0.806723  \n",
       "Management Training Program - 16 Week              0.049313      0.905797  \n",
       "High School Completion Program                     0.055878      0.815217  "
      ]
     },
     "execution_count": 32,
     "metadata": {},
     "output_type": "execute_result"
    }
   ],
   "source": [
    "pred_data.sort_values(by='trials', ascending=True).tail(10)"
   ]
  },
  {
   "cell_type": "markdown",
   "metadata": {},
   "source": [
    "In the 10 most-frequently taken courses, we have much more data to estimate a probability outcome, and the estimated probability is much closer to the calculation based simply on observed outcomes. The size of the confidence intervals has also dropped significantly to reflect lower variation in the likely estimated probabilities due to the presence of more observations."
   ]
  },
  {
   "cell_type": "markdown",
   "metadata": {},
   "source": [
    "## Creation of the Final 'Model' Function"
   ]
  },
  {
   "cell_type": "markdown",
   "metadata": {},
   "source": [
    "Now that there is a way to estimate the probability of a course being passed, we can wrap in some behavior to handle courses we've never seen before. In the event a course has no outcomes in the data set, we can simply back off to the entire data set, with the huge, and probably unreasonable, assumption that all courses have the same probability of being passed.  However, we have to start somewhere with probabilities for passing a course we haven't seen before, and that is probably the best starting point. "
   ]
  },
  {
   "cell_type": "code",
   "execution_count": 33,
   "metadata": {},
   "outputs": [],
   "source": [
    "def get_course_probability(times_taken=None, times_passed=None):\n",
    "    '''\n",
    "    Function to get probability of a course being passed based on simple bernoulli trial outcomes\n",
    "    with Wilson score interval\n",
    "    \n",
    "    inputs: times_taken: (int) Number of times the course was taken\n",
    "    inputs: n_success: (int) The number of times a passing grade was achieved for the course\n",
    "    \n",
    "    returns: (p, conf) (tuple, floats)  The corrected probability estimate and CI range for the Wilson interval\n",
    "    '''\n",
    "\n",
    "    # In the event a course was not taken back off to data for all courses \n",
    "    if times_taken is None or times_passed is None:\n",
    "        return wilson_score_interval(n_trials=2736, n_success=2142, z=1.96)\n",
    "    else:\n",
    "        return wilson_score_interval(n_trials=times_taken, n_success=times_passed, z=1.96)"
   ]
  },
  {
   "cell_type": "markdown",
   "metadata": {},
   "source": [
    "Test the function with no inputs (a course that has never been taken):"
   ]
  },
  {
   "cell_type": "code",
   "execution_count": 34,
   "metadata": {},
   "outputs": [
    {
     "data": {
      "text/plain": [
       "(0.7824980831008623, 0.015442709983530385)"
      ]
     },
     "execution_count": 34,
     "metadata": {},
     "output_type": "execute_result"
    }
   ],
   "source": [
    "get_course_probability()"
   ]
  },
  {
   "cell_type": "markdown",
   "metadata": {},
   "source": [
    "We get an estimated probability that is very close to the fraction of successful outcomes in the data set.  The confidence is likely too high for this specific case, and it should be refined further to reflex the large degree of uncertainty. "
   ]
  },
  {
   "cell_type": "markdown",
   "metadata": {},
   "source": [
    "And when a course has been taken:"
   ]
  },
  {
   "cell_type": "code",
   "execution_count": 35,
   "metadata": {},
   "outputs": [
    {
     "data": {
      "text/plain": [
       "(0.8087707941158934, 0.05587752255231372)"
      ]
     },
     "execution_count": 35,
     "metadata": {},
     "output_type": "execute_result"
    }
   ],
   "source": [
    "get_course_probability(times_taken=184, times_passed=150)"
   ]
  },
  {
   "cell_type": "markdown",
   "metadata": {},
   "source": [
    "# Conclusions\n",
    "\n",
    "How likely a course is, at a high level, going to be based on two things:\n",
    "  1. The difficulty of the course\n",
    "  2. The abilities of the student\n",
    "  \n",
    "In this data set, there is not much information that allows us to estimate the capabilities of the students. For example, outcomes per student are generally limited to one course, and very few students have taken more than 2-3 courses.\n",
    "\n",
    "Similarly, the overwhelming majority of courses have only been taken 1 time. Due to these features in the data, I've decided to keep the model fairly simple and use Wilson score intervals on the Bernoulli outcomes of students taking each course. The score intervals have the nice property of correcting probabilities in the event few trials have been observed, and the confidence intervals will reflect the uncertainty in the probabilty estimates based on so few observed outcomes. \n",
    "\n",
    "In the future, additional information would be incredibly beneficial to modeling, including:\n",
    "  * More information on the student's past achievement (GPA, ACT scores, etc)\n",
    "  * Information on the difficulty of the course (past outcomes for students in the course) \n",
    "  * Student's additional course load at any time (more courses may equate to more likelihood of failure)"
   ]
  }
 ],
 "metadata": {
  "kernelspec": {
   "display_name": "Python 3",
   "language": "python",
   "name": "python3"
  },
  "language_info": {
   "codemirror_mode": {
    "name": "ipython",
    "version": 3
   },
   "file_extension": ".py",
   "mimetype": "text/x-python",
   "name": "python",
   "nbconvert_exporter": "python",
   "pygments_lexer": "ipython3",
   "version": "3.7.3"
  }
 },
 "nbformat": 4,
 "nbformat_minor": 2
}
