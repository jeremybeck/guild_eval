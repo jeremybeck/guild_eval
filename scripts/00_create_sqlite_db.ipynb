{
 "cells": [
  {
   "cell_type": "markdown",
   "metadata": {},
   "source": [
    "# Introduction\n",
    "\n",
    "In this notebook I will be importing each sheet in the provided excel document and storing it in a sqlite database locally for my work. This notebook will also include some basic EDA about the joins and relationships between the three tables that will be useful for later work. "
   ]
  },
  {
   "cell_type": "markdown",
   "metadata": {},
   "source": [
    "## Imports and Settings"
   ]
  },
  {
   "cell_type": "code",
   "execution_count": 1,
   "metadata": {},
   "outputs": [],
   "source": [
    "import pandas as pd\n",
    "import sqlite3"
   ]
  },
  {
   "cell_type": "code",
   "execution_count": 2,
   "metadata": {},
   "outputs": [],
   "source": [
    "working_dir = '/Users/jmbeck/Desktop/guild_eval'"
   ]
  },
  {
   "cell_type": "markdown",
   "metadata": {},
   "source": [
    "## Data Load"
   ]
  },
  {
   "cell_type": "code",
   "execution_count": 3,
   "metadata": {},
   "outputs": [],
   "source": [
    "contact_details = pd.read_excel(working_dir + '/data/Guild_Education_SQL_Workbook.xls', sheet_name='Contact_Details')\n",
    "course_details = pd.read_excel(working_dir + '/data/Guild_Education_SQL_Workbook.xls',sheet_name='Course_Details')\n",
    "oppt_details = pd.read_excel(working_dir + '/data/Guild_Education_SQL_Workbook.xls', sheet_name='Opportunity_Details')"
   ]
  },
  {
   "cell_type": "markdown",
   "metadata": {},
   "source": [
    "Look at the basic structure of each table."
   ]
  },
  {
   "cell_type": "code",
   "execution_count": 4,
   "metadata": {},
   "outputs": [
    {
     "data": {
      "text/html": [
       "<div>\n",
       "<style scoped>\n",
       "    .dataframe tbody tr th:only-of-type {\n",
       "        vertical-align: middle;\n",
       "    }\n",
       "\n",
       "    .dataframe tbody tr th {\n",
       "        vertical-align: top;\n",
       "    }\n",
       "\n",
       "    .dataframe thead th {\n",
       "        text-align: right;\n",
       "    }\n",
       "</style>\n",
       "<table border=\"1\" class=\"dataframe\">\n",
       "  <thead>\n",
       "    <tr style=\"text-align: right;\">\n",
       "      <th></th>\n",
       "      <th>Sf Contact ID</th>\n",
       "      <th>Sf Opportunity ID</th>\n",
       "      <th>Sf Course C ID</th>\n",
       "    </tr>\n",
       "  </thead>\n",
       "  <tbody>\n",
       "    <tr>\n",
       "      <th>0</th>\n",
       "      <td>0033600000q4ADOAA2</td>\n",
       "      <td>00636000005dxASAAY</td>\n",
       "      <td>NaN</td>\n",
       "    </tr>\n",
       "    <tr>\n",
       "      <th>1</th>\n",
       "      <td>0033600000BMcisAAD</td>\n",
       "      <td>00636000005eG7BAAU</td>\n",
       "      <td>NaN</td>\n",
       "    </tr>\n",
       "    <tr>\n",
       "      <th>2</th>\n",
       "      <td>00336000009m01JAAQ</td>\n",
       "      <td>00636000005eGPxAAM</td>\n",
       "      <td>NaN</td>\n",
       "    </tr>\n",
       "    <tr>\n",
       "      <th>3</th>\n",
       "      <td>0033600000BOI13AAH</td>\n",
       "      <td>00636000005eNIpAAM</td>\n",
       "      <td>NaN</td>\n",
       "    </tr>\n",
       "    <tr>\n",
       "      <th>4</th>\n",
       "      <td>0033600000BNSXNAA5</td>\n",
       "      <td>00636000005eOcBAAU</td>\n",
       "      <td>NaN</td>\n",
       "    </tr>\n",
       "  </tbody>\n",
       "</table>\n",
       "</div>"
      ],
      "text/plain": [
       "        Sf Contact ID   Sf Opportunity ID Sf Course C ID\n",
       "0  0033600000q4ADOAA2  00636000005dxASAAY            NaN\n",
       "1  0033600000BMcisAAD  00636000005eG7BAAU            NaN\n",
       "2  00336000009m01JAAQ  00636000005eGPxAAM            NaN\n",
       "3  0033600000BOI13AAH  00636000005eNIpAAM            NaN\n",
       "4  0033600000BNSXNAA5  00636000005eOcBAAU            NaN"
      ]
     },
     "execution_count": 4,
     "metadata": {},
     "output_type": "execute_result"
    }
   ],
   "source": [
    "contact_details.head()"
   ]
  },
  {
   "cell_type": "code",
   "execution_count": 5,
   "metadata": {},
   "outputs": [
    {
     "data": {
      "text/html": [
       "<div>\n",
       "<style scoped>\n",
       "    .dataframe tbody tr th:only-of-type {\n",
       "        vertical-align: middle;\n",
       "    }\n",
       "\n",
       "    .dataframe tbody tr th {\n",
       "        vertical-align: top;\n",
       "    }\n",
       "\n",
       "    .dataframe thead th {\n",
       "        text-align: right;\n",
       "    }\n",
       "</style>\n",
       "<table border=\"1\" class=\"dataframe\">\n",
       "  <thead>\n",
       "    <tr style=\"text-align: right;\">\n",
       "      <th></th>\n",
       "      <th>Sf Course C ID</th>\n",
       "      <th>Sf Course C Name</th>\n",
       "      <th>Sf Course C Course Start Date C Date</th>\n",
       "      <th>Sf Course C Course End Date C Date</th>\n",
       "      <th>Sf Course C Final Grade C</th>\n",
       "    </tr>\n",
       "  </thead>\n",
       "  <tbody>\n",
       "    <tr>\n",
       "      <th>0</th>\n",
       "      <td>a1C36000009t3tGEAQ</td>\n",
       "      <td>High School Completion Program</td>\n",
       "      <td>NaT</td>\n",
       "      <td>NaT</td>\n",
       "      <td>NaN</td>\n",
       "    </tr>\n",
       "    <tr>\n",
       "      <th>1</th>\n",
       "      <td>a1C36000009eJkMEAU</td>\n",
       "      <td>Management Training Program - 16 Week</td>\n",
       "      <td>NaT</td>\n",
       "      <td>NaT</td>\n",
       "      <td>NaN</td>\n",
       "    </tr>\n",
       "    <tr>\n",
       "      <th>2</th>\n",
       "      <td>a1C36000009u2k9EAA</td>\n",
       "      <td>High School Completion Program</td>\n",
       "      <td>NaT</td>\n",
       "      <td>NaT</td>\n",
       "      <td>NaN</td>\n",
       "    </tr>\n",
       "    <tr>\n",
       "      <th>3</th>\n",
       "      <td>a1C36000009fIoUEAU</td>\n",
       "      <td>High School Completion Program</td>\n",
       "      <td>NaT</td>\n",
       "      <td>NaT</td>\n",
       "      <td>NaN</td>\n",
       "    </tr>\n",
       "    <tr>\n",
       "      <th>4</th>\n",
       "      <td>a1C36000005okzZEAQ</td>\n",
       "      <td>Management Training Program - 16 Week</td>\n",
       "      <td>NaT</td>\n",
       "      <td>NaT</td>\n",
       "      <td>NaN</td>\n",
       "    </tr>\n",
       "  </tbody>\n",
       "</table>\n",
       "</div>"
      ],
      "text/plain": [
       "       Sf Course C ID                       Sf Course C Name  \\\n",
       "0  a1C36000009t3tGEAQ         High School Completion Program   \n",
       "1  a1C36000009eJkMEAU  Management Training Program - 16 Week   \n",
       "2  a1C36000009u2k9EAA         High School Completion Program   \n",
       "3  a1C36000009fIoUEAU         High School Completion Program   \n",
       "4  a1C36000005okzZEAQ  Management Training Program - 16 Week   \n",
       "\n",
       "  Sf Course C Course Start Date C Date Sf Course C Course End Date C Date  \\\n",
       "0                                  NaT                                NaT   \n",
       "1                                  NaT                                NaT   \n",
       "2                                  NaT                                NaT   \n",
       "3                                  NaT                                NaT   \n",
       "4                                  NaT                                NaT   \n",
       "\n",
       "  Sf Course C Final Grade C  \n",
       "0                       NaN  \n",
       "1                       NaN  \n",
       "2                       NaN  \n",
       "3                       NaN  \n",
       "4                       NaN  "
      ]
     },
     "execution_count": 5,
     "metadata": {},
     "output_type": "execute_result"
    }
   ],
   "source": [
    "course_details.head()"
   ]
  },
  {
   "cell_type": "code",
   "execution_count": 6,
   "metadata": {},
   "outputs": [
    {
     "data": {
      "text/html": [
       "<div>\n",
       "<style scoped>\n",
       "    .dataframe tbody tr th:only-of-type {\n",
       "        vertical-align: middle;\n",
       "    }\n",
       "\n",
       "    .dataframe tbody tr th {\n",
       "        vertical-align: top;\n",
       "    }\n",
       "\n",
       "    .dataframe thead th {\n",
       "        text-align: right;\n",
       "    }\n",
       "</style>\n",
       "<table border=\"1\" class=\"dataframe\">\n",
       "  <thead>\n",
       "    <tr style=\"text-align: right;\">\n",
       "      <th></th>\n",
       "      <th>Sf Opportunity ID</th>\n",
       "      <th>Sf Opportunity Application Type C</th>\n",
       "      <th>Sf Opportunity Program Category</th>\n",
       "      <th>Sf Opportunity Program C</th>\n",
       "    </tr>\n",
       "  </thead>\n",
       "  <tbody>\n",
       "    <tr>\n",
       "      <th>0</th>\n",
       "      <td>00636000005dxASAAY</td>\n",
       "      <td>Guild Education</td>\n",
       "      <td>Lead Gen - Post Secondary</td>\n",
       "      <td>Giving and Receiving Feedback</td>\n",
       "    </tr>\n",
       "    <tr>\n",
       "      <th>1</th>\n",
       "      <td>00636000005eG7BAAU</td>\n",
       "      <td>Western Governors University</td>\n",
       "      <td>University</td>\n",
       "      <td>B.A. in Interdisciplinary Studies (K-8)</td>\n",
       "    </tr>\n",
       "    <tr>\n",
       "      <th>2</th>\n",
       "      <td>00636000005eGPxAAM</td>\n",
       "      <td>Western Governors University</td>\n",
       "      <td>University</td>\n",
       "      <td>B.A. in Interdisciplinary Studies (K-8)</td>\n",
       "    </tr>\n",
       "    <tr>\n",
       "      <th>3</th>\n",
       "      <td>00636000005eNIpAAM</td>\n",
       "      <td>Western Governors University</td>\n",
       "      <td>University</td>\n",
       "      <td>B.A. in Interdisciplinary Studies (K-8)</td>\n",
       "    </tr>\n",
       "    <tr>\n",
       "      <th>4</th>\n",
       "      <td>00636000005eOcBAAU</td>\n",
       "      <td>Western Governors University</td>\n",
       "      <td>University</td>\n",
       "      <td>B.A. in Interdisciplinary Studies (K-8)</td>\n",
       "    </tr>\n",
       "  </tbody>\n",
       "</table>\n",
       "</div>"
      ],
      "text/plain": [
       "    Sf Opportunity ID Sf Opportunity Application Type C  \\\n",
       "0  00636000005dxASAAY                   Guild Education   \n",
       "1  00636000005eG7BAAU      Western Governors University   \n",
       "2  00636000005eGPxAAM      Western Governors University   \n",
       "3  00636000005eNIpAAM      Western Governors University   \n",
       "4  00636000005eOcBAAU      Western Governors University   \n",
       "\n",
       "  Sf Opportunity Program Category                 Sf Opportunity Program C  \n",
       "0       Lead Gen - Post Secondary            Giving and Receiving Feedback  \n",
       "1                      University  B.A. in Interdisciplinary Studies (K-8)  \n",
       "2                      University  B.A. in Interdisciplinary Studies (K-8)  \n",
       "3                      University  B.A. in Interdisciplinary Studies (K-8)  \n",
       "4                      University  B.A. in Interdisciplinary Studies (K-8)  "
      ]
     },
     "execution_count": 6,
     "metadata": {},
     "output_type": "execute_result"
    }
   ],
   "source": [
    "oppt_details.head()"
   ]
  },
  {
   "cell_type": "markdown",
   "metadata": {},
   "source": [
    "## Create a Local SQLite Database\n",
    "\n",
    "Create the local database file for SQLite and store each pandas dataframe as a table in it.  We won't worry about indices since these tables are small and we aren't going to reuse it, but we will double check that everything loaded properly. "
   ]
  },
  {
   "cell_type": "code",
   "execution_count": 7,
   "metadata": {},
   "outputs": [],
   "source": [
    "conn = sqlite3.connect(working_dir + '/db/eval_db.sqlite')"
   ]
  },
  {
   "cell_type": "code",
   "execution_count": 8,
   "metadata": {},
   "outputs": [
    {
     "name": "stderr",
     "output_type": "stream",
     "text": [
      "/Users/jmbeck/anaconda3/lib/python3.7/site-packages/pandas/core/generic.py:2531: UserWarning: The spaces in these column names will not be changed. In pandas versions < 0.14, spaces were converted to underscores.\n",
      "  dtype=dtype, method=method)\n"
     ]
    }
   ],
   "source": [
    "contact_details.to_sql(\"CONTACT_DETAILS\", conn, if_exists=\"replace\", index=False)"
   ]
  },
  {
   "cell_type": "code",
   "execution_count": 9,
   "metadata": {},
   "outputs": [],
   "source": [
    "course_details.to_sql(\"COURSE_DETAILS\", conn, if_exists=\"replace\", index=False)"
   ]
  },
  {
   "cell_type": "code",
   "execution_count": 10,
   "metadata": {},
   "outputs": [],
   "source": [
    "oppt_details.to_sql(\"OPPORTUNITY_DETAILS\", conn, if_exists=\"replace\", index=False)"
   ]
  },
  {
   "cell_type": "markdown",
   "metadata": {},
   "source": [
    "### Read tables back in and assert that row numbers match"
   ]
  },
  {
   "cell_type": "code",
   "execution_count": 11,
   "metadata": {},
   "outputs": [],
   "source": [
    "contact_details_reread = pd.read_sql('SELECT * FROM CONTACT_DETAILS', conn)"
   ]
  },
  {
   "cell_type": "code",
   "execution_count": 12,
   "metadata": {},
   "outputs": [],
   "source": [
    "assert(contact_details.shape == contact_details_reread.shape)"
   ]
  },
  {
   "cell_type": "code",
   "execution_count": 13,
   "metadata": {},
   "outputs": [],
   "source": [
    "course_details_reread = pd.read_sql('SELECT * FROM COURSE_DETAILS', conn)"
   ]
  },
  {
   "cell_type": "code",
   "execution_count": 14,
   "metadata": {},
   "outputs": [],
   "source": [
    "assert(course_details.shape == course_details_reread.shape)"
   ]
  },
  {
   "cell_type": "code",
   "execution_count": 15,
   "metadata": {},
   "outputs": [],
   "source": [
    "oppt_details_reread = pd.read_sql('SELECT * FROM OPPORTUNITY_DETAILS', conn)"
   ]
  },
  {
   "cell_type": "code",
   "execution_count": 16,
   "metadata": {},
   "outputs": [],
   "source": [
    "assert(oppt_details.shape == oppt_details_reread.shape)"
   ]
  },
  {
   "cell_type": "code",
   "execution_count": 17,
   "metadata": {},
   "outputs": [],
   "source": [
    "conn.close()"
   ]
  },
  {
   "cell_type": "markdown",
   "metadata": {},
   "source": [
    "## EDA\n",
    "\n",
    "The EDA contained in this section will be pretty basic, but will look at the linkage between keys for each table."
   ]
  },
  {
   "cell_type": "markdown",
   "metadata": {},
   "source": [
    "### Contact Details\n",
    "\n",
    "Basic structure and information on the CONTACT_DETAILS data set."
   ]
  },
  {
   "cell_type": "code",
   "execution_count": 18,
   "metadata": {},
   "outputs": [
    {
     "data": {
      "text/plain": [
       "(27029, 3)"
      ]
     },
     "execution_count": 18,
     "metadata": {},
     "output_type": "execute_result"
    }
   ],
   "source": [
    "contact_details.shape"
   ]
  },
  {
   "cell_type": "markdown",
   "metadata": {},
   "source": [
    "There are roughly 27000 contacts in the data set."
   ]
  },
  {
   "cell_type": "code",
   "execution_count": 19,
   "metadata": {},
   "outputs": [
    {
     "data": {
      "text/html": [
       "<div>\n",
       "<style scoped>\n",
       "    .dataframe tbody tr th:only-of-type {\n",
       "        vertical-align: middle;\n",
       "    }\n",
       "\n",
       "    .dataframe tbody tr th {\n",
       "        vertical-align: top;\n",
       "    }\n",
       "\n",
       "    .dataframe thead th {\n",
       "        text-align: right;\n",
       "    }\n",
       "</style>\n",
       "<table border=\"1\" class=\"dataframe\">\n",
       "  <thead>\n",
       "    <tr style=\"text-align: right;\">\n",
       "      <th></th>\n",
       "      <th>Sf Contact ID</th>\n",
       "      <th>Sf Opportunity ID</th>\n",
       "      <th>Sf Course C ID</th>\n",
       "    </tr>\n",
       "  </thead>\n",
       "  <tbody>\n",
       "    <tr>\n",
       "      <th>0</th>\n",
       "      <td>0033600000q4ADOAA2</td>\n",
       "      <td>00636000005dxASAAY</td>\n",
       "      <td>NaN</td>\n",
       "    </tr>\n",
       "    <tr>\n",
       "      <th>1</th>\n",
       "      <td>0033600000BMcisAAD</td>\n",
       "      <td>00636000005eG7BAAU</td>\n",
       "      <td>NaN</td>\n",
       "    </tr>\n",
       "    <tr>\n",
       "      <th>2</th>\n",
       "      <td>00336000009m01JAAQ</td>\n",
       "      <td>00636000005eGPxAAM</td>\n",
       "      <td>NaN</td>\n",
       "    </tr>\n",
       "    <tr>\n",
       "      <th>3</th>\n",
       "      <td>0033600000BOI13AAH</td>\n",
       "      <td>00636000005eNIpAAM</td>\n",
       "      <td>NaN</td>\n",
       "    </tr>\n",
       "    <tr>\n",
       "      <th>4</th>\n",
       "      <td>0033600000BNSXNAA5</td>\n",
       "      <td>00636000005eOcBAAU</td>\n",
       "      <td>NaN</td>\n",
       "    </tr>\n",
       "  </tbody>\n",
       "</table>\n",
       "</div>"
      ],
      "text/plain": [
       "        Sf Contact ID   Sf Opportunity ID Sf Course C ID\n",
       "0  0033600000q4ADOAA2  00636000005dxASAAY            NaN\n",
       "1  0033600000BMcisAAD  00636000005eG7BAAU            NaN\n",
       "2  00336000009m01JAAQ  00636000005eGPxAAM            NaN\n",
       "3  0033600000BOI13AAH  00636000005eNIpAAM            NaN\n",
       "4  0033600000BNSXNAA5  00636000005eOcBAAU            NaN"
      ]
     },
     "execution_count": 19,
     "metadata": {},
     "output_type": "execute_result"
    }
   ],
   "source": [
    "contact_details.head()"
   ]
  },
  {
   "cell_type": "markdown",
   "metadata": {},
   "source": [
    "This table is the cornerstone for linking the three tables together. The primary identifer for this table is [Sf Contact ID], and foreign keys would be [Sf Opportunity ID] to the OPPORTUNITY_DETAILS table, and [Sf Course C ID] to the COURSE_DETAILS table. "
   ]
  },
  {
   "cell_type": "markdown",
   "metadata": {},
   "source": [
    "There are multiple records for each contact id."
   ]
  },
  {
   "cell_type": "code",
   "execution_count": 20,
   "metadata": {},
   "outputs": [
    {
     "data": {
      "text/plain": [
       "Sf Contact ID\n",
       "0033600000VDyNSAA1    46\n",
       "0033600000OkCxiAAF    43\n",
       "0033600000fuScWAAU    42\n",
       "0033600000Y2HfUAAV    40\n",
       "0033600000iutHvAAI    36\n",
       "dtype: int64"
      ]
     },
     "execution_count": 20,
     "metadata": {},
     "output_type": "execute_result"
    }
   ],
   "source": [
    "contact_details.groupby(['Sf Contact ID']).size().sort_values(ascending=False).head()"
   ]
  },
  {
   "cell_type": "markdown",
   "metadata": {},
   "source": [
    "Each contact id can have multiple course ids associated with them, since a student can take many courses."
   ]
  },
  {
   "cell_type": "code",
   "execution_count": 21,
   "metadata": {},
   "outputs": [
    {
     "data": {
      "text/plain": [
       "Sf Contact ID\n",
       "0033600000VDyNSAA1    44\n",
       "0033600000OkCxiAAF    42\n",
       "0033600000fuScWAAU    41\n",
       "0033600000Y2HfUAAV    39\n",
       "0033600000iutHvAAI    34\n",
       "Name: Sf Course C ID, dtype: int64"
      ]
     },
     "execution_count": 21,
     "metadata": {},
     "output_type": "execute_result"
    }
   ],
   "source": [
    "contact_details.groupby(['Sf Contact ID'])['Sf Course C ID'].nunique().sort_values(ascending=False).head()"
   ]
  },
  {
   "cell_type": "markdown",
   "metadata": {},
   "source": [
    "There are instances where a single contact id is also associated with several programs/opportunities."
   ]
  },
  {
   "cell_type": "code",
   "execution_count": 22,
   "metadata": {},
   "outputs": [
    {
     "data": {
      "text/plain": [
       "Sf Contact ID\n",
       "0033600000MyAVQAA3    11\n",
       "0033600000UFuqbAAD    11\n",
       "0033600000q4ADdAAM     9\n",
       "0033600000kcMHIAA2     9\n",
       "0033600000NoojwAAB     8\n",
       "Name: Sf Opportunity ID, dtype: int64"
      ]
     },
     "execution_count": 22,
     "metadata": {},
     "output_type": "execute_result"
    }
   ],
   "source": [
    "contact_details.groupby(['Sf Contact ID'])['Sf Opportunity ID'].nunique().sort_values(ascending=False).head()"
   ]
  },
  {
   "cell_type": "markdown",
   "metadata": {},
   "source": [
    "The majority of contact ids do not correspond to an opportunity id at all."
   ]
  },
  {
   "cell_type": "code",
   "execution_count": 23,
   "metadata": {},
   "outputs": [
    {
     "data": {
      "text/plain": [
       "0     15151\n",
       "2      1925\n",
       "1       923\n",
       "4       215\n",
       "3       135\n",
       "6        62\n",
       "5        61\n",
       "8        17\n",
       "7        11\n",
       "11        2\n",
       "9         2\n",
       "Name: Sf Opportunity ID, dtype: int64"
      ]
     },
     "execution_count": 23,
     "metadata": {},
     "output_type": "execute_result"
    }
   ],
   "source": [
    "contact_details.groupby(['Sf Contact ID'])['Sf Opportunity ID'].nunique().value_counts()"
   ]
  },
  {
   "cell_type": "markdown",
   "metadata": {},
   "source": [
    "### Course Details\n",
    "\n",
    "This section contains a basis overview of the structure and uniqueness of the COURSE_DETAILS data and its keys. \n"
   ]
  },
  {
   "cell_type": "code",
   "execution_count": 24,
   "metadata": {},
   "outputs": [
    {
     "data": {
      "text/plain": [
       "(7572, 5)"
      ]
     },
     "execution_count": 24,
     "metadata": {},
     "output_type": "execute_result"
    }
   ],
   "source": [
    "course_details.shape"
   ]
  },
  {
   "cell_type": "markdown",
   "metadata": {},
   "source": [
    "There are roughly 7500 instances of courses being taken in this data set."
   ]
  },
  {
   "cell_type": "code",
   "execution_count": 25,
   "metadata": {},
   "outputs": [
    {
     "data": {
      "text/html": [
       "<div>\n",
       "<style scoped>\n",
       "    .dataframe tbody tr th:only-of-type {\n",
       "        vertical-align: middle;\n",
       "    }\n",
       "\n",
       "    .dataframe tbody tr th {\n",
       "        vertical-align: top;\n",
       "    }\n",
       "\n",
       "    .dataframe thead th {\n",
       "        text-align: right;\n",
       "    }\n",
       "</style>\n",
       "<table border=\"1\" class=\"dataframe\">\n",
       "  <thead>\n",
       "    <tr style=\"text-align: right;\">\n",
       "      <th></th>\n",
       "      <th>Sf Course C ID</th>\n",
       "      <th>Sf Course C Name</th>\n",
       "      <th>Sf Course C Course Start Date C Date</th>\n",
       "      <th>Sf Course C Course End Date C Date</th>\n",
       "      <th>Sf Course C Final Grade C</th>\n",
       "    </tr>\n",
       "  </thead>\n",
       "  <tbody>\n",
       "    <tr>\n",
       "      <th>0</th>\n",
       "      <td>a1C36000009t3tGEAQ</td>\n",
       "      <td>High School Completion Program</td>\n",
       "      <td>NaT</td>\n",
       "      <td>NaT</td>\n",
       "      <td>NaN</td>\n",
       "    </tr>\n",
       "    <tr>\n",
       "      <th>1</th>\n",
       "      <td>a1C36000009eJkMEAU</td>\n",
       "      <td>Management Training Program - 16 Week</td>\n",
       "      <td>NaT</td>\n",
       "      <td>NaT</td>\n",
       "      <td>NaN</td>\n",
       "    </tr>\n",
       "    <tr>\n",
       "      <th>2</th>\n",
       "      <td>a1C36000009u2k9EAA</td>\n",
       "      <td>High School Completion Program</td>\n",
       "      <td>NaT</td>\n",
       "      <td>NaT</td>\n",
       "      <td>NaN</td>\n",
       "    </tr>\n",
       "    <tr>\n",
       "      <th>3</th>\n",
       "      <td>a1C36000009fIoUEAU</td>\n",
       "      <td>High School Completion Program</td>\n",
       "      <td>NaT</td>\n",
       "      <td>NaT</td>\n",
       "      <td>NaN</td>\n",
       "    </tr>\n",
       "    <tr>\n",
       "      <th>4</th>\n",
       "      <td>a1C36000005okzZEAQ</td>\n",
       "      <td>Management Training Program - 16 Week</td>\n",
       "      <td>NaT</td>\n",
       "      <td>NaT</td>\n",
       "      <td>NaN</td>\n",
       "    </tr>\n",
       "  </tbody>\n",
       "</table>\n",
       "</div>"
      ],
      "text/plain": [
       "       Sf Course C ID                       Sf Course C Name  \\\n",
       "0  a1C36000009t3tGEAQ         High School Completion Program   \n",
       "1  a1C36000009eJkMEAU  Management Training Program - 16 Week   \n",
       "2  a1C36000009u2k9EAA         High School Completion Program   \n",
       "3  a1C36000009fIoUEAU         High School Completion Program   \n",
       "4  a1C36000005okzZEAQ  Management Training Program - 16 Week   \n",
       "\n",
       "  Sf Course C Course Start Date C Date Sf Course C Course End Date C Date  \\\n",
       "0                                  NaT                                NaT   \n",
       "1                                  NaT                                NaT   \n",
       "2                                  NaT                                NaT   \n",
       "3                                  NaT                                NaT   \n",
       "4                                  NaT                                NaT   \n",
       "\n",
       "  Sf Course C Final Grade C  \n",
       "0                       NaN  \n",
       "1                       NaN  \n",
       "2                       NaN  \n",
       "3                       NaN  \n",
       "4                       NaN  "
      ]
     },
     "execution_count": 25,
     "metadata": {},
     "output_type": "execute_result"
    }
   ],
   "source": [
    "course_details.head()"
   ]
  },
  {
   "cell_type": "code",
   "execution_count": 26,
   "metadata": {},
   "outputs": [
    {
     "data": {
      "text/plain": [
       "Sf Course C ID\n",
       "a1C36000009vDXOEA2    1\n",
       "a1C36000004u04hEAA    1\n",
       "a1C36000004u04VEAQ    1\n",
       "a1C36000004u04WEAQ    1\n",
       "a1C36000004u04XEAQ    1\n",
       "dtype: int64"
      ]
     },
     "execution_count": 26,
     "metadata": {},
     "output_type": "execute_result"
    }
   ],
   "source": [
    "course_details.groupby('Sf Course C ID').size().sort_values(ascending=False).head()"
   ]
  },
  {
   "cell_type": "markdown",
   "metadata": {},
   "source": [
    "This table contains one record per course id.  "
   ]
  },
  {
   "cell_type": "code",
   "execution_count": 27,
   "metadata": {},
   "outputs": [
    {
     "data": {
      "text/plain": [
       "1    297\n",
       "2    176\n",
       "4     68\n",
       "3     60\n",
       "8     39\n",
       "dtype: int64"
      ]
     },
     "execution_count": 27,
     "metadata": {},
     "output_type": "execute_result"
    }
   ],
   "source": [
    "course_details.groupby('Sf Course C Name').size().value_counts(ascending=False).head()"
   ]
  },
  {
   "cell_type": "markdown",
   "metadata": {},
   "source": [
    "The same course name can appear multiple times in the table, suggesting that this is a unique set of instances of each course taken by a students, along with their final grades."
   ]
  },
  {
   "cell_type": "markdown",
   "metadata": {},
   "source": [
    "### Opportunity Details\n",
    "\n",
    "Basic structure and details of the OPPORTUNITY_DETAILS table."
   ]
  },
  {
   "cell_type": "code",
   "execution_count": 28,
   "metadata": {},
   "outputs": [
    {
     "data": {
      "text/plain": [
       "(6968, 4)"
      ]
     },
     "execution_count": 28,
     "metadata": {},
     "output_type": "execute_result"
    }
   ],
   "source": [
    "oppt_details.shape"
   ]
  },
  {
   "cell_type": "markdown",
   "metadata": {},
   "source": [
    "There are roughly 7000 opportunities/links back to the CONTACT_DETAILS table. "
   ]
  },
  {
   "cell_type": "code",
   "execution_count": 29,
   "metadata": {},
   "outputs": [
    {
     "data": {
      "text/html": [
       "<div>\n",
       "<style scoped>\n",
       "    .dataframe tbody tr th:only-of-type {\n",
       "        vertical-align: middle;\n",
       "    }\n",
       "\n",
       "    .dataframe tbody tr th {\n",
       "        vertical-align: top;\n",
       "    }\n",
       "\n",
       "    .dataframe thead th {\n",
       "        text-align: right;\n",
       "    }\n",
       "</style>\n",
       "<table border=\"1\" class=\"dataframe\">\n",
       "  <thead>\n",
       "    <tr style=\"text-align: right;\">\n",
       "      <th></th>\n",
       "      <th>Sf Opportunity ID</th>\n",
       "      <th>Sf Opportunity Application Type C</th>\n",
       "      <th>Sf Opportunity Program Category</th>\n",
       "      <th>Sf Opportunity Program C</th>\n",
       "    </tr>\n",
       "  </thead>\n",
       "  <tbody>\n",
       "    <tr>\n",
       "      <th>0</th>\n",
       "      <td>00636000005dxASAAY</td>\n",
       "      <td>Guild Education</td>\n",
       "      <td>Lead Gen - Post Secondary</td>\n",
       "      <td>Giving and Receiving Feedback</td>\n",
       "    </tr>\n",
       "    <tr>\n",
       "      <th>1</th>\n",
       "      <td>00636000005eG7BAAU</td>\n",
       "      <td>Western Governors University</td>\n",
       "      <td>University</td>\n",
       "      <td>B.A. in Interdisciplinary Studies (K-8)</td>\n",
       "    </tr>\n",
       "    <tr>\n",
       "      <th>2</th>\n",
       "      <td>00636000005eGPxAAM</td>\n",
       "      <td>Western Governors University</td>\n",
       "      <td>University</td>\n",
       "      <td>B.A. in Interdisciplinary Studies (K-8)</td>\n",
       "    </tr>\n",
       "    <tr>\n",
       "      <th>3</th>\n",
       "      <td>00636000005eNIpAAM</td>\n",
       "      <td>Western Governors University</td>\n",
       "      <td>University</td>\n",
       "      <td>B.A. in Interdisciplinary Studies (K-8)</td>\n",
       "    </tr>\n",
       "    <tr>\n",
       "      <th>4</th>\n",
       "      <td>00636000005eOcBAAU</td>\n",
       "      <td>Western Governors University</td>\n",
       "      <td>University</td>\n",
       "      <td>B.A. in Interdisciplinary Studies (K-8)</td>\n",
       "    </tr>\n",
       "  </tbody>\n",
       "</table>\n",
       "</div>"
      ],
      "text/plain": [
       "    Sf Opportunity ID Sf Opportunity Application Type C  \\\n",
       "0  00636000005dxASAAY                   Guild Education   \n",
       "1  00636000005eG7BAAU      Western Governors University   \n",
       "2  00636000005eGPxAAM      Western Governors University   \n",
       "3  00636000005eNIpAAM      Western Governors University   \n",
       "4  00636000005eOcBAAU      Western Governors University   \n",
       "\n",
       "  Sf Opportunity Program Category                 Sf Opportunity Program C  \n",
       "0       Lead Gen - Post Secondary            Giving and Receiving Feedback  \n",
       "1                      University  B.A. in Interdisciplinary Studies (K-8)  \n",
       "2                      University  B.A. in Interdisciplinary Studies (K-8)  \n",
       "3                      University  B.A. in Interdisciplinary Studies (K-8)  \n",
       "4                      University  B.A. in Interdisciplinary Studies (K-8)  "
      ]
     },
     "execution_count": 29,
     "metadata": {},
     "output_type": "execute_result"
    }
   ],
   "source": [
    "oppt_details.head()"
   ]
  },
  {
   "cell_type": "code",
   "execution_count": 30,
   "metadata": {},
   "outputs": [
    {
     "data": {
      "text/plain": [
       "1    6968\n",
       "dtype: int64"
      ]
     },
     "execution_count": 30,
     "metadata": {},
     "output_type": "execute_result"
    }
   ],
   "source": [
    "oppt_details.groupby('Sf Opportunity ID').size().value_counts()"
   ]
  },
  {
   "cell_type": "markdown",
   "metadata": {},
   "source": [
    "This table contains a single row per opportunity id, with details about the opportunity."
   ]
  }
 ],
 "metadata": {
  "kernelspec": {
   "display_name": "Python 3",
   "language": "python",
   "name": "python3"
  },
  "language_info": {
   "codemirror_mode": {
    "name": "ipython",
    "version": 3
   },
   "file_extension": ".py",
   "mimetype": "text/x-python",
   "name": "python",
   "nbconvert_exporter": "python",
   "pygments_lexer": "ipython3",
   "version": "3.7.3"
  }
 },
 "nbformat": 4,
 "nbformat_minor": 2
}
