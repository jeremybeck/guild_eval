{
 "cells": [
  {
   "cell_type": "markdown",
   "metadata": {},
   "source": [
    "# Introduction\n",
    "\n",
    "In this notebook, I will be investigating the funnel data provided in the Analytics Discovery Exercise. The provided data set contains information on Guild's client companies, and the employee bases for each company that have been onboarded, and associated course enrollment information, as well as dates of the first two-way communication Guild had with each employee."
   ]
  },
  {
   "cell_type": "markdown",
   "metadata": {},
   "source": [
    "\n",
    "\n",
    "**Instructions were as follows** \n",
    "\n",
    "Build a 3 -5 slide presentation to present to the executive leadership team to cover:\n",
    "  * Any interesting trends you find about our user base\n",
    "  * Your understanding of the student funnel (given the sample data), and how we convert students, and any information relevant to the funnel conversion.\n",
    "  * Any other interesting facts, data points or suggestions you’d like to share to demonstrate your ability to analyze and synthesize data in a compelling way. \n"
   ]
  },
  {
   "cell_type": "markdown",
   "metadata": {},
   "source": [
    "## Import and Connections"
   ]
  },
  {
   "cell_type": "code",
   "execution_count": 1,
   "metadata": {},
   "outputs": [],
   "source": [
    "import pandas as pd\n",
    "import sqlite3\n",
    "import numpy as np\n",
    "from datetime import datetime\n",
    "from scipy.stats import ranksums, mannwhitneyu"
   ]
  },
  {
   "cell_type": "code",
   "execution_count": 2,
   "metadata": {},
   "outputs": [],
   "source": [
    "pd.options.display.max_rows = 500\n",
    "%matplotlib inline"
   ]
  },
  {
   "cell_type": "code",
   "execution_count": 3,
   "metadata": {},
   "outputs": [],
   "source": [
    "working_dir = '/Users/jmbeck/Desktop/guild_eval'"
   ]
  },
  {
   "cell_type": "markdown",
   "metadata": {},
   "source": [
    "## Data Load\n",
    "\n",
    "The data set for the funnel will be loaded directly from the excel document stored locally."
   ]
  },
  {
   "cell_type": "code",
   "execution_count": 4,
   "metadata": {},
   "outputs": [],
   "source": [
    "flow_data = pd.read_excel(working_dir + '/data/Analytics Discovery exercise.xlsx')"
   ]
  },
  {
   "cell_type": "markdown",
   "metadata": {},
   "source": [
    "Take a quick look at the structure of the data set."
   ]
  },
  {
   "cell_type": "code",
   "execution_count": 5,
   "metadata": {},
   "outputs": [
    {
     "data": {
      "text/html": [
       "<div>\n",
       "<style scoped>\n",
       "    .dataframe tbody tr th:only-of-type {\n",
       "        vertical-align: middle;\n",
       "    }\n",
       "\n",
       "    .dataframe tbody tr th {\n",
       "        vertical-align: top;\n",
       "    }\n",
       "\n",
       "    .dataframe thead th {\n",
       "        text-align: right;\n",
       "    }\n",
       "</style>\n",
       "<table border=\"1\" class=\"dataframe\">\n",
       "  <thead>\n",
       "    <tr style=\"text-align: right;\">\n",
       "      <th></th>\n",
       "      <th>Student ID</th>\n",
       "      <th>Student ID Created Date</th>\n",
       "      <th>Enrollment Created At</th>\n",
       "      <th>Course Start Date</th>\n",
       "      <th>Employer</th>\n",
       "      <th>Educational Interest</th>\n",
       "      <th>First Two-way Communication</th>\n",
       "      <th>Student Birthdate</th>\n",
       "      <th>Course Name</th>\n",
       "    </tr>\n",
       "  </thead>\n",
       "  <tbody>\n",
       "    <tr>\n",
       "      <th>0</th>\n",
       "      <td>00Q3600000lmLhEEAU</td>\n",
       "      <td>2018-02-08</td>\n",
       "      <td>2018-04-04</td>\n",
       "      <td>2018-04-06</td>\n",
       "      <td>Discover</td>\n",
       "      <td>NaN</td>\n",
       "      <td>2018-02-18</td>\n",
       "      <td>NaN</td>\n",
       "      <td>Mathematics Review</td>\n",
       "    </tr>\n",
       "    <tr>\n",
       "      <th>1</th>\n",
       "      <td>00Q3600000lmLhEEAU</td>\n",
       "      <td>2018-02-08</td>\n",
       "      <td>2018-04-04</td>\n",
       "      <td>2018-04-06</td>\n",
       "      <td>Discover</td>\n",
       "      <td>NaN</td>\n",
       "      <td>2018-02-18</td>\n",
       "      <td>NaN</td>\n",
       "      <td>First Year Experience Seminar</td>\n",
       "    </tr>\n",
       "    <tr>\n",
       "      <th>2</th>\n",
       "      <td>00Q3600000lmLhEEAU</td>\n",
       "      <td>2018-02-08</td>\n",
       "      <td>2018-04-04</td>\n",
       "      <td>2018-04-12</td>\n",
       "      <td>Discover</td>\n",
       "      <td>NaN</td>\n",
       "      <td>2018-02-18</td>\n",
       "      <td>NaN</td>\n",
       "      <td>Intro to Critical Thinking</td>\n",
       "    </tr>\n",
       "    <tr>\n",
       "      <th>3</th>\n",
       "      <td>00Q3600000lmLhEEAU</td>\n",
       "      <td>2018-02-08</td>\n",
       "      <td>2018-02-28</td>\n",
       "      <td>2018-04-06</td>\n",
       "      <td>Discover</td>\n",
       "      <td>NaN</td>\n",
       "      <td>2018-02-18</td>\n",
       "      <td>NaN</td>\n",
       "      <td>Mathematics Review</td>\n",
       "    </tr>\n",
       "    <tr>\n",
       "      <th>4</th>\n",
       "      <td>00Q3600000lmLhEEAU</td>\n",
       "      <td>2018-02-08</td>\n",
       "      <td>2018-02-28</td>\n",
       "      <td>2018-04-06</td>\n",
       "      <td>Discover</td>\n",
       "      <td>NaN</td>\n",
       "      <td>2018-02-18</td>\n",
       "      <td>NaN</td>\n",
       "      <td>First Year Experience Seminar</td>\n",
       "    </tr>\n",
       "  </tbody>\n",
       "</table>\n",
       "</div>"
      ],
      "text/plain": [
       "           Student ID Student ID Created Date Enrollment Created At  \\\n",
       "0  00Q3600000lmLhEEAU              2018-02-08            2018-04-04   \n",
       "1  00Q3600000lmLhEEAU              2018-02-08            2018-04-04   \n",
       "2  00Q3600000lmLhEEAU              2018-02-08            2018-04-04   \n",
       "3  00Q3600000lmLhEEAU              2018-02-08            2018-02-28   \n",
       "4  00Q3600000lmLhEEAU              2018-02-08            2018-02-28   \n",
       "\n",
       "  Course Start Date  Employer Educational Interest  \\\n",
       "0        2018-04-06  Discover                  NaN   \n",
       "1        2018-04-06  Discover                  NaN   \n",
       "2        2018-04-12  Discover                  NaN   \n",
       "3        2018-04-06  Discover                  NaN   \n",
       "4        2018-04-06  Discover                  NaN   \n",
       "\n",
       "  First Two-way Communication  Student Birthdate  \\\n",
       "0                  2018-02-18                NaN   \n",
       "1                  2018-02-18                NaN   \n",
       "2                  2018-02-18                NaN   \n",
       "3                  2018-02-18                NaN   \n",
       "4                  2018-02-18                NaN   \n",
       "\n",
       "                     Course Name  \n",
       "0             Mathematics Review  \n",
       "1  First Year Experience Seminar  \n",
       "2     Intro to Critical Thinking  \n",
       "3             Mathematics Review  \n",
       "4  First Year Experience Seminar  "
      ]
     },
     "execution_count": 5,
     "metadata": {},
     "output_type": "execute_result"
    }
   ],
   "source": [
    "flow_data.head()"
   ]
  },
  {
   "cell_type": "markdown",
   "metadata": {},
   "source": [
    "Some of this data looks similar to what we saw in the SQL Workbench data, although there is what appears to be some onboarding and communication data here as well.  Since things like course names and enrollment dates are added here I will refrain from attempting to join the SQL tables to this data set. (A quick check suggests IDs are of a different format between the two and they can't be joined anyway.) "
   ]
  },
  {
   "cell_type": "code",
   "execution_count": 6,
   "metadata": {},
   "outputs": [
    {
     "data": {
      "text/plain": [
       "Student ID                             object\n",
       "Student ID Created Date        datetime64[ns]\n",
       "Enrollment Created At          datetime64[ns]\n",
       "Course Start Date              datetime64[ns]\n",
       "Employer                               object\n",
       "Educational Interest                   object\n",
       "First Two-way Communication    datetime64[ns]\n",
       "Student Birthdate                     float64\n",
       "Course Name                            object\n",
       "dtype: object"
      ]
     },
     "execution_count": 6,
     "metadata": {},
     "output_type": "execute_result"
    }
   ],
   "source": [
    "flow_data.dtypes"
   ]
  },
  {
   "cell_type": "code",
   "execution_count": 7,
   "metadata": {},
   "outputs": [
    {
     "data": {
      "text/plain": [
       "24"
      ]
     },
     "execution_count": 7,
     "metadata": {},
     "output_type": "execute_result"
    }
   ],
   "source": [
    "flow_data.duplicated().sum()"
   ]
  },
  {
   "cell_type": "markdown",
   "metadata": {},
   "source": [
    "Unfortunately there are some duplicate rows in this data set. We will drop them here."
   ]
  },
  {
   "cell_type": "code",
   "execution_count": 8,
   "metadata": {},
   "outputs": [],
   "source": [
    "flow_data = flow_data.drop_duplicates()"
   ]
  },
  {
   "cell_type": "markdown",
   "metadata": {},
   "source": [
    "# EDA\n",
    "\n",
    "In this section I will look at several features of the data:\n",
    "  * Missingness per column\n",
    "  * Total number of onboarded employees per company\n",
    "  * Total number of conversations with employees per company\n",
    "  * Total number of students enrolled in courses per company"
   ]
  },
  {
   "cell_type": "markdown",
   "metadata": {},
   "source": [
    "**Missingness**"
   ]
  },
  {
   "cell_type": "code",
   "execution_count": 9,
   "metadata": {},
   "outputs": [
    {
     "data": {
      "text/plain": [
       "Student ID                       0.000000\n",
       "Student ID Created Date          0.000000\n",
       "Enrollment Created At           98.740517\n",
       "Course Start Date               98.899192\n",
       "Employer                         0.337185\n",
       "Educational Interest            99.980166\n",
       "First Two-way Communication     96.335598\n",
       "Student Birthdate              100.000000\n",
       "Course Name                     98.899192\n",
       "dtype: float64"
      ]
     },
     "execution_count": 9,
     "metadata": {},
     "output_type": "execute_result"
    }
   ],
   "source": [
    "100*(flow_data.isnull().sum()/flow_data.shape[0])"
   ]
  },
  {
   "cell_type": "markdown",
   "metadata": {},
   "source": [
    "Of the critical columns, roughly 98% of the values are missing.  This suggests that very few employees ultimately enroll in courses or have two-way conversations with Guild."
   ]
  },
  {
   "cell_type": "markdown",
   "metadata": {},
   "source": [
    "**Unique Students Per Employer**"
   ]
  },
  {
   "cell_type": "code",
   "execution_count": 10,
   "metadata": {},
   "outputs": [
    {
     "data": {
      "text/plain": [
       "Employer\n",
       "Taco Bell                      10644\n",
       "DaVita                          4423\n",
       "Chipotle                        4272\n",
       "Discover                         280\n",
       "Walmart                          155\n",
       "Lyft                             102\n",
       "Mission43                         10\n",
       "Hire Heroes                        9\n",
       "Public Service Credit Union        5\n",
       "Denver Public Schools              4\n",
       "SEIU                               1\n",
       "Lowe's                             1\n",
       "Name: Student ID, dtype: int64"
      ]
     },
     "execution_count": 10,
     "metadata": {},
     "output_type": "execute_result"
    }
   ],
   "source": [
    "flow_data.groupby('Employer')['Student ID'].nunique().sort_values(ascending=False)"
   ]
  },
  {
   "cell_type": "markdown",
   "metadata": {},
   "source": [
    "Filter down to students who have enrolled in a course"
   ]
  },
  {
   "cell_type": "markdown",
   "metadata": {},
   "source": [
    "**Count of Unique Two-Way Communications per Employer**"
   ]
  },
  {
   "cell_type": "code",
   "execution_count": 11,
   "metadata": {},
   "outputs": [
    {
     "data": {
      "text/plain": [
       "Employer\n",
       "DaVita                         311\n",
       "Chipotle                       154\n",
       "Discover                        30\n",
       "Taco Bell                       23\n",
       "Lyft                            22\n",
       "Walmart                         17\n",
       "Hire Heroes                      6\n",
       "Public Service Credit Union      4\n",
       "Mission43                        4\n",
       "Denver Public Schools            3\n",
       "Name: Student ID, dtype: int64"
      ]
     },
     "execution_count": 11,
     "metadata": {},
     "output_type": "execute_result"
    }
   ],
   "source": [
    "flow_data[-flow_data['First Two-way Communication'].isnull()].groupby('Employer')['Student ID'].\\\n",
    "    nunique().sort_values(ascending=False)"
   ]
  },
  {
   "cell_type": "markdown",
   "metadata": {},
   "source": [
    "DaVita has the highest count of two-way conversations. Chipotle also has a fair number of conversations."
   ]
  },
  {
   "cell_type": "markdown",
   "metadata": {},
   "source": [
    "**Count of Unique Students Enrolling in Course Per Employer**"
   ]
  },
  {
   "cell_type": "code",
   "execution_count": 12,
   "metadata": {},
   "outputs": [
    {
     "data": {
      "text/plain": [
       "Employer\n",
       "DaVita       45\n",
       "Walmart       5\n",
       "Discover      3\n",
       "Mission43     2\n",
       "Chipotle      2\n",
       "Taco Bell     1\n",
       "Name: Student ID, dtype: int64"
      ]
     },
     "execution_count": 12,
     "metadata": {},
     "output_type": "execute_result"
    }
   ],
   "source": [
    "flow_data[-flow_data['Enrollment Created At'].isnull()].groupby('Employer')['Student ID'].\\\n",
    "    nunique().sort_values(ascending=False)"
   ]
  },
  {
   "cell_type": "markdown",
   "metadata": {},
   "source": [
    "DaVita once again appears to have roughly 1% of their overall population enrolled in courses. We'll dig more into that later."
   ]
  },
  {
   "cell_type": "code",
   "execution_count": 13,
   "metadata": {},
   "outputs": [
    {
     "data": {
      "text/plain": [
       "Student ID          Course Name                     Course Start Date\n",
       "00Q3600000llQw1EAE  Composition I                   2018-03-07           2\n",
       "                    Introduction to Psychology      2018-03-07           2\n",
       "                                                    2018-05-15           2\n",
       "00Q3600000llRcpEAE  Health Information Techn and A  2018-04-09           2\n",
       "                                                    2018-05-15           2\n",
       "                    Healthcare Finance              2018-04-09           2\n",
       "                                                    2018-05-15           2\n",
       "                    Human Resource Management       2018-04-09           2\n",
       "                                                    2018-05-15           2\n",
       "                    Leadership and Team Developmt   2018-04-09           2\n",
       "dtype: int64"
      ]
     },
     "execution_count": 13,
     "metadata": {},
     "output_type": "execute_result"
    }
   ],
   "source": [
    "flow_data[-flow_data['Enrollment Created At'].isnull()].\\\n",
    "    groupby(['Student ID', 'Course Name', 'Course Start Date']).size().head(10)"
   ]
  },
  {
   "cell_type": "markdown",
   "metadata": {},
   "source": [
    "Example of the duplicate enrollments here."
   ]
  },
  {
   "cell_type": "code",
   "execution_count": 14,
   "metadata": {},
   "outputs": [
    {
     "data": {
      "text/html": [
       "<div>\n",
       "<style scoped>\n",
       "    .dataframe tbody tr th:only-of-type {\n",
       "        vertical-align: middle;\n",
       "    }\n",
       "\n",
       "    .dataframe tbody tr th {\n",
       "        vertical-align: top;\n",
       "    }\n",
       "\n",
       "    .dataframe thead th {\n",
       "        text-align: right;\n",
       "    }\n",
       "</style>\n",
       "<table border=\"1\" class=\"dataframe\">\n",
       "  <thead>\n",
       "    <tr style=\"text-align: right;\">\n",
       "      <th></th>\n",
       "      <th>Student ID</th>\n",
       "      <th>Student ID Created Date</th>\n",
       "      <th>Enrollment Created At</th>\n",
       "      <th>Course Start Date</th>\n",
       "      <th>Employer</th>\n",
       "      <th>Educational Interest</th>\n",
       "      <th>First Two-way Communication</th>\n",
       "      <th>Student Birthdate</th>\n",
       "      <th>Course Name</th>\n",
       "    </tr>\n",
       "  </thead>\n",
       "  <tbody>\n",
       "    <tr>\n",
       "      <th>73</th>\n",
       "      <td>00Q3600000llQw1EAE</td>\n",
       "      <td>2018-02-01</td>\n",
       "      <td>2018-02-06</td>\n",
       "      <td>2018-03-07</td>\n",
       "      <td>DaVita</td>\n",
       "      <td>NaN</td>\n",
       "      <td>2018-02-01</td>\n",
       "      <td>NaN</td>\n",
       "      <td>Composition I</td>\n",
       "    </tr>\n",
       "    <tr>\n",
       "      <th>70</th>\n",
       "      <td>00Q3600000llQw1EAE</td>\n",
       "      <td>2018-02-01</td>\n",
       "      <td>2018-03-07</td>\n",
       "      <td>2018-03-07</td>\n",
       "      <td>DaVita</td>\n",
       "      <td>NaN</td>\n",
       "      <td>2018-02-01</td>\n",
       "      <td>NaN</td>\n",
       "      <td>Composition I</td>\n",
       "    </tr>\n",
       "    <tr>\n",
       "      <th>71</th>\n",
       "      <td>00Q3600000llQw1EAE</td>\n",
       "      <td>2018-02-01</td>\n",
       "      <td>2018-02-06</td>\n",
       "      <td>2018-03-07</td>\n",
       "      <td>DaVita</td>\n",
       "      <td>NaN</td>\n",
       "      <td>2018-02-01</td>\n",
       "      <td>NaN</td>\n",
       "      <td>Introduction to Psychology</td>\n",
       "    </tr>\n",
       "    <tr>\n",
       "      <th>68</th>\n",
       "      <td>00Q3600000llQw1EAE</td>\n",
       "      <td>2018-02-01</td>\n",
       "      <td>2018-03-07</td>\n",
       "      <td>2018-03-07</td>\n",
       "      <td>DaVita</td>\n",
       "      <td>NaN</td>\n",
       "      <td>2018-02-01</td>\n",
       "      <td>NaN</td>\n",
       "      <td>Introduction to Psychology</td>\n",
       "    </tr>\n",
       "    <tr>\n",
       "      <th>72</th>\n",
       "      <td>00Q3600000llQw1EAE</td>\n",
       "      <td>2018-02-01</td>\n",
       "      <td>2018-02-06</td>\n",
       "      <td>2018-05-15</td>\n",
       "      <td>DaVita</td>\n",
       "      <td>NaN</td>\n",
       "      <td>2018-02-01</td>\n",
       "      <td>NaN</td>\n",
       "      <td>Introduction to Psychology</td>\n",
       "    </tr>\n",
       "    <tr>\n",
       "      <th>69</th>\n",
       "      <td>00Q3600000llQw1EAE</td>\n",
       "      <td>2018-02-01</td>\n",
       "      <td>2018-03-07</td>\n",
       "      <td>2018-05-15</td>\n",
       "      <td>DaVita</td>\n",
       "      <td>NaN</td>\n",
       "      <td>2018-02-01</td>\n",
       "      <td>NaN</td>\n",
       "      <td>Introduction to Psychology</td>\n",
       "    </tr>\n",
       "  </tbody>\n",
       "</table>\n",
       "</div>"
      ],
      "text/plain": [
       "            Student ID Student ID Created Date Enrollment Created At  \\\n",
       "73  00Q3600000llQw1EAE              2018-02-01            2018-02-06   \n",
       "70  00Q3600000llQw1EAE              2018-02-01            2018-03-07   \n",
       "71  00Q3600000llQw1EAE              2018-02-01            2018-02-06   \n",
       "68  00Q3600000llQw1EAE              2018-02-01            2018-03-07   \n",
       "72  00Q3600000llQw1EAE              2018-02-01            2018-02-06   \n",
       "69  00Q3600000llQw1EAE              2018-02-01            2018-03-07   \n",
       "\n",
       "   Course Start Date Employer Educational Interest  \\\n",
       "73        2018-03-07   DaVita                  NaN   \n",
       "70        2018-03-07   DaVita                  NaN   \n",
       "71        2018-03-07   DaVita                  NaN   \n",
       "68        2018-03-07   DaVita                  NaN   \n",
       "72        2018-05-15   DaVita                  NaN   \n",
       "69        2018-05-15   DaVita                  NaN   \n",
       "\n",
       "   First Two-way Communication  Student Birthdate                 Course Name  \n",
       "73                  2018-02-01                NaN               Composition I  \n",
       "70                  2018-02-01                NaN               Composition I  \n",
       "71                  2018-02-01                NaN  Introduction to Psychology  \n",
       "68                  2018-02-01                NaN  Introduction to Psychology  \n",
       "72                  2018-02-01                NaN  Introduction to Psychology  \n",
       "69                  2018-02-01                NaN  Introduction to Psychology  "
      ]
     },
     "execution_count": 14,
     "metadata": {},
     "output_type": "execute_result"
    }
   ],
   "source": [
    "flow_data[flow_data['Student ID'] == '00Q3600000llQw1EAE'].\\\n",
    "    sort_values(by=['Course Name', 'Course Start Date','Enrollment Created At'], ascending=True)"
   ]
  },
  {
   "cell_type": "markdown",
   "metadata": {},
   "source": [
    "For students who enrolled in courses, it looks like there can be duplicate enrollments.  I'll ensure that I aggregate by enrollment as I am working on downstream analyses. "
   ]
  },
  {
   "cell_type": "markdown",
   "metadata": {},
   "source": [
    "## Funnel Timings\n",
    "\n",
    "Now that we have a rough idea of what the funnel for onboarding to course enrollment looks like in terms of raw numbers, I will start digging into the dates associated with these data."
   ]
  },
  {
   "cell_type": "markdown",
   "metadata": {},
   "source": [
    "### Enrollment Date"
   ]
  },
  {
   "cell_type": "code",
   "execution_count": 15,
   "metadata": {
    "scrolled": true
   },
   "outputs": [
    {
     "data": {
      "text/plain": [
       "Timestamp('2018-02-01 00:00:00')"
      ]
     },
     "execution_count": 15,
     "metadata": {},
     "output_type": "execute_result"
    }
   ],
   "source": [
    "flow_data['Student ID Created Date'].min()"
   ]
  },
  {
   "cell_type": "code",
   "execution_count": 16,
   "metadata": {},
   "outputs": [
    {
     "data": {
      "text/plain": [
       "Timestamp('2018-02-15 00:00:00')"
      ]
     },
     "execution_count": 16,
     "metadata": {},
     "output_type": "execute_result"
    }
   ],
   "source": [
    "flow_data['Student ID Created Date'].max()"
   ]
  },
  {
   "cell_type": "markdown",
   "metadata": {},
   "source": [
    "It turns out we are looking at a very narrow window of employees that were onboarded in a 2 week window in February of 2018."
   ]
  },
  {
   "cell_type": "markdown",
   "metadata": {},
   "source": [
    "### Course Enrollment Range"
   ]
  },
  {
   "cell_type": "code",
   "execution_count": 17,
   "metadata": {},
   "outputs": [
    {
     "data": {
      "text/plain": [
       "Timestamp('2017-03-28 00:00:00')"
      ]
     },
     "execution_count": 17,
     "metadata": {},
     "output_type": "execute_result"
    }
   ],
   "source": [
    "flow_data['Enrollment Created At'].min()"
   ]
  },
  {
   "cell_type": "code",
   "execution_count": 18,
   "metadata": {},
   "outputs": [
    {
     "data": {
      "text/plain": [
       "Timestamp('2018-05-17 00:00:00')"
      ]
     },
     "execution_count": 18,
     "metadata": {},
     "output_type": "execute_result"
    }
   ],
   "source": [
    "flow_data['Enrollment Created At'].max()"
   ]
  },
  {
   "cell_type": "markdown",
   "metadata": {},
   "source": [
    "We are generally looking at the first half of 2018 in terms of course enrollment dates. There are some course enrollments in 2017, but those were isolated to a small number of users.  I would guess those are coming from either an employee testing for the company that was later onboarded with the batch load of all employees, or another unknowable issue for the purposes of this isolated evaluation."
   ]
  },
  {
   "cell_type": "markdown",
   "metadata": {},
   "source": [
    "### First Touchpoint"
   ]
  },
  {
   "cell_type": "markdown",
   "metadata": {},
   "source": [
    "I am interested in knowing the time in days between the student ID being created in the system (what I will call onboarding) and when the first two-way communication occurred.  "
   ]
  },
  {
   "cell_type": "code",
   "execution_count": 19,
   "metadata": {},
   "outputs": [],
   "source": [
    "flow_data['time_to_first_contact'] = flow_data['First Two-way Communication'] - flow_data['Student ID Created Date']\n",
    "flow_data['time_to_first_contact'] = flow_data.time_to_first_contact.apply(lambda x: x.days)"
   ]
  },
  {
   "cell_type": "markdown",
   "metadata": {},
   "source": [
    "### First Course Enrollment"
   ]
  },
  {
   "cell_type": "markdown",
   "metadata": {},
   "source": [
    "Similarly, I am interested in knowing the time in days between the student ID being created in the system (what I will call onboarding) and a student's first enrollment date. "
   ]
  },
  {
   "cell_type": "code",
   "execution_count": 20,
   "metadata": {},
   "outputs": [],
   "source": [
    "flow_data['course_enrollment_delay'] = flow_data['Enrollment Created At'] - flow_data['Student ID Created Date']\n",
    "flow_data['course_enrollment_delay'] = flow_data.course_enrollment_delay.apply(lambda x: x.days)"
   ]
  },
  {
   "cell_type": "markdown",
   "metadata": {},
   "source": [
    "### Aggregate Stats by Employee"
   ]
  },
  {
   "cell_type": "markdown",
   "metadata": {},
   "source": [
    "Several employees have multiple enrollments for the same course in the data set, so I will need to aggregate data down to have a single unique record per student id for account-level metrics like first enrollment date and time to the initial two-way communication. Since these values are at the student-level, I can just take a min. "
   ]
  },
  {
   "cell_type": "code",
   "execution_count": 21,
   "metadata": {},
   "outputs": [],
   "source": [
    "customer_funnel = flow_data.groupby('Student ID').agg({'course_enrollment_delay':min, 'time_to_first_contact':min})"
   ]
  },
  {
   "cell_type": "code",
   "execution_count": 22,
   "metadata": {},
   "outputs": [
    {
     "data": {
      "text/html": [
       "<div>\n",
       "<style scoped>\n",
       "    .dataframe tbody tr th:only-of-type {\n",
       "        vertical-align: middle;\n",
       "    }\n",
       "\n",
       "    .dataframe tbody tr th {\n",
       "        vertical-align: top;\n",
       "    }\n",
       "\n",
       "    .dataframe thead th {\n",
       "        text-align: right;\n",
       "    }\n",
       "</style>\n",
       "<table border=\"1\" class=\"dataframe\">\n",
       "  <thead>\n",
       "    <tr style=\"text-align: right;\">\n",
       "      <th></th>\n",
       "      <th>course_enrollment_delay</th>\n",
       "      <th>time_to_first_contact</th>\n",
       "    </tr>\n",
       "    <tr>\n",
       "      <th>Student ID</th>\n",
       "      <th></th>\n",
       "      <th></th>\n",
       "    </tr>\n",
       "  </thead>\n",
       "  <tbody>\n",
       "    <tr>\n",
       "      <th>00Q3600000lnAUOEA2</th>\n",
       "      <td>NaN</td>\n",
       "      <td>NaN</td>\n",
       "    </tr>\n",
       "    <tr>\n",
       "      <th>00Q3600000lnAZPEA2</th>\n",
       "      <td>NaN</td>\n",
       "      <td>NaN</td>\n",
       "    </tr>\n",
       "    <tr>\n",
       "      <th>00Q3600000lnArBEAU</th>\n",
       "      <td>NaN</td>\n",
       "      <td>84.0</td>\n",
       "    </tr>\n",
       "    <tr>\n",
       "      <th>00Q3600000lnAwqEAE</th>\n",
       "      <td>NaN</td>\n",
       "      <td>1.0</td>\n",
       "    </tr>\n",
       "    <tr>\n",
       "      <th>00Q3600000lnB0OEAU</th>\n",
       "      <td>NaN</td>\n",
       "      <td>NaN</td>\n",
       "    </tr>\n",
       "    <tr>\n",
       "      <th>00Q3600000lnB1REAU</th>\n",
       "      <td>NaN</td>\n",
       "      <td>1.0</td>\n",
       "    </tr>\n",
       "    <tr>\n",
       "      <th>00Q3600000lnB2AEAU</th>\n",
       "      <td>1.0</td>\n",
       "      <td>1.0</td>\n",
       "    </tr>\n",
       "    <tr>\n",
       "      <th>00Q3600000nfyIVEAY</th>\n",
       "      <td>NaN</td>\n",
       "      <td>NaN</td>\n",
       "    </tr>\n",
       "    <tr>\n",
       "      <th>00Q3600000prkIeEAI</th>\n",
       "      <td>NaN</td>\n",
       "      <td>0.0</td>\n",
       "    </tr>\n",
       "    <tr>\n",
       "      <th>00Q3600000prkuqEAA</th>\n",
       "      <td>NaN</td>\n",
       "      <td>0.0</td>\n",
       "    </tr>\n",
       "  </tbody>\n",
       "</table>\n",
       "</div>"
      ],
      "text/plain": [
       "                    course_enrollment_delay  time_to_first_contact\n",
       "Student ID                                                        \n",
       "00Q3600000lnAUOEA2                      NaN                    NaN\n",
       "00Q3600000lnAZPEA2                      NaN                    NaN\n",
       "00Q3600000lnArBEAU                      NaN                   84.0\n",
       "00Q3600000lnAwqEAE                      NaN                    1.0\n",
       "00Q3600000lnB0OEAU                      NaN                    NaN\n",
       "00Q3600000lnB1REAU                      NaN                    1.0\n",
       "00Q3600000lnB2AEAU                      1.0                    1.0\n",
       "00Q3600000nfyIVEAY                      NaN                    NaN\n",
       "00Q3600000prkIeEAI                      NaN                    0.0\n",
       "00Q3600000prkuqEAA                      NaN                    0.0"
      ]
     },
     "execution_count": 22,
     "metadata": {},
     "output_type": "execute_result"
    }
   ],
   "source": [
    "customer_funnel.tail(10)"
   ]
  },
  {
   "cell_type": "markdown",
   "metadata": {},
   "source": [
    "**Missingness in the Aggregated Data**"
   ]
  },
  {
   "cell_type": "code",
   "execution_count": 23,
   "metadata": {},
   "outputs": [
    {
     "data": {
      "text/plain": [
       "course_enrollment_delay    99.699594\n",
       "time_to_first_contact      97.096080\n",
       "dtype: float64"
      ]
     },
     "execution_count": 23,
     "metadata": {},
     "output_type": "execute_result"
    }
   ],
   "source": [
    "100*(customer_funnel.isnull().sum()/customer_funnel.shape[0])"
   ]
  },
  {
   "cell_type": "code",
   "execution_count": 24,
   "metadata": {},
   "outputs": [
    {
     "data": {
      "text/plain": [
       "<matplotlib.axes._subplots.AxesSubplot at 0x1a1b929d30>"
      ]
     },
     "execution_count": 24,
     "metadata": {},
     "output_type": "execute_result"
    },
    {
     "data": {
      "image/png": "[encoded data removed]",
      "text/plain": [
       "<Figure size 432x288 with 1 Axes>"
      ]
     },
     "metadata": {
      "needs_background": "light"
     },
     "output_type": "display_data"
    }
   ],
   "source": [
    "customer_funnel.course_enrollment_delay.hist()"
   ]
  },
  {
   "cell_type": "markdown",
   "metadata": {},
   "source": [
    "Let's filter enrollment delay down to only look at people who enrolled after their ID was created.  (This is probably caused by a system issue loading data). "
   ]
  },
  {
   "cell_type": "code",
   "execution_count": 25,
   "metadata": {},
   "outputs": [
    {
     "data": {
      "text/plain": [
       "<matplotlib.axes._subplots.AxesSubplot at 0x1a1b766278>"
      ]
     },
     "execution_count": 25,
     "metadata": {},
     "output_type": "execute_result"
    },
    {
     "data": {
      "image/png": "[encoded data removed]",
      "text/plain": [
       "<Figure size 432x288 with 1 Axes>"
      ]
     },
     "metadata": {
      "needs_background": "light"
     },
     "output_type": "display_data"
    }
   ],
   "source": [
    "customer_funnel.query('course_enrollment_delay >= 0').course_enrollment_delay.hist()"
   ]
  },
  {
   "cell_type": "markdown",
   "metadata": {},
   "source": [
    "Most students have enrolled in courses very quickly after they were onboarded into the Guild system.  That is a bit surprising and not what I would have expected, although if this was a new platform for the company, employees were excited to start using it immediately."
   ]
  },
  {
   "cell_type": "code",
   "execution_count": 26,
   "metadata": {},
   "outputs": [],
   "source": [
    "customer_funnel['enrolled'] = -customer_funnel['course_enrollment_delay'].isnull()"
   ]
  },
  {
   "cell_type": "code",
   "execution_count": 27,
   "metadata": {},
   "outputs": [
    {
     "data": {
      "text/html": [
       "<div>\n",
       "<style scoped>\n",
       "    .dataframe tbody tr th:only-of-type {\n",
       "        vertical-align: middle;\n",
       "    }\n",
       "\n",
       "    .dataframe tbody tr th {\n",
       "        vertical-align: top;\n",
       "    }\n",
       "\n",
       "    .dataframe thead th {\n",
       "        text-align: right;\n",
       "    }\n",
       "</style>\n",
       "<table border=\"1\" class=\"dataframe\">\n",
       "  <thead>\n",
       "    <tr style=\"text-align: right;\">\n",
       "      <th></th>\n",
       "      <th>count</th>\n",
       "      <th>mean</th>\n",
       "      <th>std</th>\n",
       "      <th>min</th>\n",
       "      <th>25%</th>\n",
       "      <th>50%</th>\n",
       "      <th>75%</th>\n",
       "      <th>max</th>\n",
       "    </tr>\n",
       "    <tr>\n",
       "      <th>enrolled</th>\n",
       "      <th></th>\n",
       "      <th></th>\n",
       "      <th></th>\n",
       "      <th></th>\n",
       "      <th></th>\n",
       "      <th></th>\n",
       "      <th></th>\n",
       "      <th></th>\n",
       "    </tr>\n",
       "  </thead>\n",
       "  <tbody>\n",
       "    <tr>\n",
       "      <th>False</th>\n",
       "      <td>525.0</td>\n",
       "      <td>14.165714</td>\n",
       "      <td>22.225191</td>\n",
       "      <td>-92.0</td>\n",
       "      <td>0.0</td>\n",
       "      <td>4.0</td>\n",
       "      <td>20.0</td>\n",
       "      <td>96.0</td>\n",
       "    </tr>\n",
       "    <tr>\n",
       "      <th>True</th>\n",
       "      <td>55.0</td>\n",
       "      <td>7.818182</td>\n",
       "      <td>15.509962</td>\n",
       "      <td>0.0</td>\n",
       "      <td>0.0</td>\n",
       "      <td>2.0</td>\n",
       "      <td>7.0</td>\n",
       "      <td>82.0</td>\n",
       "    </tr>\n",
       "  </tbody>\n",
       "</table>\n",
       "</div>"
      ],
      "text/plain": [
       "          count       mean        std   min  25%  50%   75%   max\n",
       "enrolled                                                         \n",
       "False     525.0  14.165714  22.225191 -92.0  0.0  4.0  20.0  96.0\n",
       "True       55.0   7.818182  15.509962   0.0  0.0  2.0   7.0  82.0"
      ]
     },
     "execution_count": 27,
     "metadata": {},
     "output_type": "execute_result"
    }
   ],
   "source": [
    "customer_funnel.groupby('enrolled').time_to_first_contact.describe()"
   ]
  },
  {
   "cell_type": "markdown",
   "metadata": {},
   "source": [
    "Of the people who Guild had a two-way communication with, the time delay looks like it may be slightly shorter for those who ultimately enrolled in courses. \n",
    "\n",
    "We'll need to see if this is even statistically significant."
   ]
  },
  {
   "cell_type": "code",
   "execution_count": 28,
   "metadata": {},
   "outputs": [
    {
     "data": {
      "text/plain": [
       "enrolled\n",
       "False    AxesSubplot(0.125,0.125;0.775x0.755)\n",
       "True     AxesSubplot(0.125,0.125;0.775x0.755)\n",
       "Name: time_to_first_contact, dtype: object"
      ]
     },
     "execution_count": 28,
     "metadata": {},
     "output_type": "execute_result"
    },
    {
     "data": {
      "image/png": "[encoded data removed]",
      "text/plain": [
       "<Figure size 432x288 with 1 Axes>"
      ]
     },
     "metadata": {
      "needs_background": "light"
     },
     "output_type": "display_data"
    }
   ],
   "source": [
    "customer_funnel.groupby('enrolled').time_to_first_contact.hist()"
   ]
  },
  {
   "cell_type": "markdown",
   "metadata": {},
   "source": [
    "To run a non-parametric test on this, I will filter down to just the employees who Guild had a two-way conversation with, and see if there is any significant difference in the distribution of time-to-first-contact between groups.  Essentially, I will be trying to understand if the slight decrease in the median is significant."
   ]
  },
  {
   "cell_type": "code",
   "execution_count": 29,
   "metadata": {},
   "outputs": [],
   "source": [
    "customers_convoed = customer_funnel[-(customer_funnel.time_to_first_contact.isnull())]"
   ]
  },
  {
   "cell_type": "markdown",
   "metadata": {},
   "source": [
    "Now I will split this data set into employees who ultimately enrolled in a course, and those who didn't."
   ]
  },
  {
   "cell_type": "code",
   "execution_count": 30,
   "metadata": {},
   "outputs": [],
   "source": [
    "enrolled = customers_convoed[(customers_convoed.enrolled)].time_to_first_contact\n",
    "not_enrolled = customers_convoed[-(customers_convoed.enrolled)].time_to_first_contact"
   ]
  },
  {
   "cell_type": "markdown",
   "metadata": {},
   "source": [
    "And now we will run the Mann-Whitney U non-parametric test against the data. Two concerns are the relatively small sample size and the fairly large imbalance in the data. "
   ]
  },
  {
   "cell_type": "code",
   "execution_count": 31,
   "metadata": {},
   "outputs": [
    {
     "data": {
      "text/plain": [
       "MannwhitneyuResult(statistic=16297.0, pvalue=0.10919988350934175)"
      ]
     },
     "execution_count": 31,
     "metadata": {},
     "output_type": "execute_result"
    }
   ],
   "source": [
    "mannwhitneyu(not_enrolled, enrolled, alternative='two-sided')"
   ]
  },
  {
   "cell_type": "markdown",
   "metadata": {},
   "source": [
    "Based on the output of the statistical test there does not appear to be a significant difference communication time for people who ultimately enrolled in classes vs those who didn't. "
   ]
  },
  {
   "cell_type": "markdown",
   "metadata": {},
   "source": [
    "### Funnel Exception"
   ]
  },
  {
   "cell_type": "markdown",
   "metadata": {},
   "source": [
    "There are a few students in the funnel who have signed up for courses but have not actually had a two-way conversation with Guild. Given the small number we have seen, it is difficult to tell how likely it is that students would sign up without first having a two-way conversation. "
   ]
  },
  {
   "cell_type": "code",
   "execution_count": 32,
   "metadata": {},
   "outputs": [
    {
     "data": {
      "text/html": [
       "<div>\n",
       "<style scoped>\n",
       "    .dataframe tbody tr th:only-of-type {\n",
       "        vertical-align: middle;\n",
       "    }\n",
       "\n",
       "    .dataframe tbody tr th {\n",
       "        vertical-align: top;\n",
       "    }\n",
       "\n",
       "    .dataframe thead th {\n",
       "        text-align: right;\n",
       "    }\n",
       "</style>\n",
       "<table border=\"1\" class=\"dataframe\">\n",
       "  <thead>\n",
       "    <tr style=\"text-align: right;\">\n",
       "      <th></th>\n",
       "      <th>course_enrollment_delay</th>\n",
       "      <th>time_to_first_contact</th>\n",
       "      <th>enrolled</th>\n",
       "    </tr>\n",
       "    <tr>\n",
       "      <th>Student ID</th>\n",
       "      <th></th>\n",
       "      <th></th>\n",
       "      <th></th>\n",
       "    </tr>\n",
       "  </thead>\n",
       "  <tbody>\n",
       "    <tr>\n",
       "      <th>00Q3600000llz8KEAQ</th>\n",
       "      <td>17.0</td>\n",
       "      <td>NaN</td>\n",
       "      <td>True</td>\n",
       "    </tr>\n",
       "    <tr>\n",
       "      <th>00Q3600000lm0gXEAQ</th>\n",
       "      <td>-315.0</td>\n",
       "      <td>NaN</td>\n",
       "      <td>True</td>\n",
       "    </tr>\n",
       "    <tr>\n",
       "      <th>00Q3600000lmHPOEA2</th>\n",
       "      <td>13.0</td>\n",
       "      <td>NaN</td>\n",
       "      <td>True</td>\n",
       "    </tr>\n",
       "    <tr>\n",
       "      <th>00Q3600000lmIwyEAE</th>\n",
       "      <td>1.0</td>\n",
       "      <td>NaN</td>\n",
       "      <td>True</td>\n",
       "    </tr>\n",
       "    <tr>\n",
       "      <th>00Q3600000lmVt5EAE</th>\n",
       "      <td>5.0</td>\n",
       "      <td>NaN</td>\n",
       "      <td>True</td>\n",
       "    </tr>\n",
       "  </tbody>\n",
       "</table>\n",
       "</div>"
      ],
      "text/plain": [
       "                    course_enrollment_delay  time_to_first_contact  enrolled\n",
       "Student ID                                                                  \n",
       "00Q3600000llz8KEAQ                     17.0                    NaN      True\n",
       "00Q3600000lm0gXEAQ                   -315.0                    NaN      True\n",
       "00Q3600000lmHPOEA2                     13.0                    NaN      True\n",
       "00Q3600000lmIwyEAE                      1.0                    NaN      True\n",
       "00Q3600000lmVt5EAE                      5.0                    NaN      True"
      ]
     },
     "execution_count": 32,
     "metadata": {},
     "output_type": "execute_result"
    }
   ],
   "source": [
    "customer_funnel[(customer_funnel.time_to_first_contact.isnull()) & (customer_funnel.enrolled)]"
   ]
  },
  {
   "cell_type": "markdown",
   "metadata": {},
   "source": [
    "## Most Popular Courses"
   ]
  },
  {
   "cell_type": "code",
   "execution_count": 33,
   "metadata": {},
   "outputs": [
    {
     "data": {
      "text/plain": [
       "Intro to Psychology                                  7\n",
       "First Year Experience Seminar                        7\n",
       "Issues in Aging                                      5\n",
       "Operations Management                                3\n",
       "Nurse as Professional                                3\n",
       "Developmental Writing - 8 Week                       3\n",
       "Intro to Critical Thinking                           3\n",
       "Biology I (with Lab)                                 2\n",
       "Healthcare Finance                                   2\n",
       "Strat Mgmt for Healthcare Orgs                       2\n",
       "Quality Management                                   2\n",
       "High School Completion                               2\n",
       "Leadership and Team Developmt                        2\n",
       "Introduction to Psychology                           2\n",
       "Organizational Development                           2\n",
       "Org Design and Delivery Sys                          2\n",
       "Health Information Techn and A                       2\n",
       "High School Completion Program                       2\n",
       "Leadership Skills for Professionals                  2\n",
       "Human Resource Management                            2\n",
       "Legal, Ethical, and Compl Issu                       2\n",
       "Marketing                                            1\n",
       "Health Information Technology                        1\n",
       "Statistical Methods II:  Multi                       1\n",
       "Composition I                                        1\n",
       "Introduction to Sociology                            1\n",
       "Fiscal Management                                    1\n",
       "Advanced Industrial and Organi                       1\n",
       "Painting                                             1\n",
       "Composition II                                       1\n",
       "Personnel Selection                                  1\n",
       "Tradition and Change                                 1\n",
       "Excel in Bus Prob Solving                            1\n",
       "Basic English for Everyday Interactions              1\n",
       "Principles of Healthcare Mgmt                        1\n",
       "Mathematics Review                                   1\n",
       "Capstone Project                                     1\n",
       "Spanish I Intensive                                  1\n",
       "Business Performance Managemen                       1\n",
       "Job Analysis and Performance A                       1\n",
       "Applied Research Methods                             1\n",
       "Principles of Criminology                            1\n",
       "Foundations for Professional S                       1\n",
       "Principles of Management                             1\n",
       "Practicum and Skills Developme                       1\n",
       "Workplace English Intensive                          1\n",
       "Marketing Healthcare Services                        1\n",
       "American Vision and Values                           1\n",
       "Research Writing                                     1\n",
       "Microbiology                                         1\n",
       "Intermediate English for Hospitality Employees       1\n",
       "Legal and Regulatory Issues                          1\n",
       "Statistical Methods I                                1\n",
       "Personal Wellness                                    1\n",
       "Folklore                                             1\n",
       "Social Psychology                                    1\n",
       "Introduction to English for Hospitality Employees    1\n",
       "Evidence-Based Management                            1\n",
       "Measurement and Design                               1\n",
       "Freedom and Responsibility                           1\n",
       "Human Resources in Healthcare                        1\n",
       "Profession of Industrial/Organ                       1\n",
       "Applied Organizational Psychol                       1\n",
       "Name: Course Name, dtype: int64"
      ]
     },
     "execution_count": 33,
     "metadata": {},
     "output_type": "execute_result"
    }
   ],
   "source": [
    "flow_data.drop_duplicates(subset=['Student ID', 'Course Start Date', 'Course Name'])['Course Name'].value_counts()"
   ]
  },
  {
   "cell_type": "markdown",
   "metadata": {},
   "source": [
    "There really aren't that many courses that have been taken by multiple people yet. "
   ]
  },
  {
   "cell_type": "markdown",
   "metadata": {},
   "source": [
    "### Key Findings in the Data:\n",
    "  * The provided data set appears to consist of onboarded employees for several major companies that were added to the system in the first two weeks of February 2018. Course enrollment is provided for these employees for what appears to be the first half of 2018.\n",
    "  * The funnel appears to consist of onboarding an employer's employee base, a two-way conversation with some subset of the employees, and hopefully course enrollment. I assume there is some passive benefit enrollment discussion that happens between onboarding and two-way conversations.\n",
    "  * Conversion is fairly low. Of the employee base, Guild appears to have had conversations with roughly 2.9% of the employee base.  The data does not suggest that employees will sign up for courses without that conversation, so it would appear getting in front of the employee is critical. \n",
    "  * There are issues with duplicate enrollment records in this data set that I cleaned and removed in order to get a better estimate of the conversion rates."
   ]
  },
  {
   "cell_type": "code",
   "execution_count": null,
   "metadata": {},
   "outputs": [],
   "source": []
  }
 ],
 "metadata": {
  "kernelspec": {
   "display_name": "Python 3",
   "language": "python",
   "name": "python3"
  },
  "language_info": {
   "codemirror_mode": {
    "name": "ipython",
    "version": 3
   },
   "file_extension": ".py",
   "mimetype": "text/x-python",
   "name": "python",
   "nbconvert_exporter": "python",
   "pygments_lexer": "ipython3",
   "version": "3.7.3"
  }
 },
 "nbformat": 4,
 "nbformat_minor": 2
}
